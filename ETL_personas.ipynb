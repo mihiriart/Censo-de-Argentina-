{
 "cells": [
  {
   "cell_type": "markdown",
   "metadata": {},
   "source": [
    "ETL DEL DATASET personas_tot.urb_3T_2022"
   ]
  },
  {
   "cell_type": "markdown",
   "metadata": {},
   "source": [
    "IMPORTAMOS LAS LIBRRÍAS QUE VAMOS A UTILIZAR "
   ]
  },
  {
   "cell_type": "code",
   "execution_count": 1,
   "metadata": {},
   "outputs": [],
   "source": [
    "import pandas as pd\n",
    "import numpy as np\n"
   ]
  },
  {
   "cell_type": "markdown",
   "metadata": {},
   "source": [
    "CARGAMOS LAS BASE DE DATOS "
   ]
  },
  {
   "cell_type": "code",
   "execution_count": 2,
   "metadata": {},
   "outputs": [
    {
     "name": "stderr",
     "output_type": "stream",
     "text": [
      "C:\\Users\\Usuario\\AppData\\Local\\Temp\\ipykernel_8236\\1923809744.py:3: DtypeWarning: Columns (63,66) have mixed types. Specify dtype option on import or set low_memory=False.\n",
      "  personas = pd.read_csv(\"personas_tot.urb_3T_2022.txt\", sep=';', encoding='latin1')\n"
     ]
    }
   ],
   "source": [
    "# Cargar los datos desde los archivos TXT\n",
    "\n",
    "personas = pd.read_csv(\"personas_tot.urb_3T_2022.txt\", sep=';', encoding='latin1')\n"
   ]
  },
  {
   "cell_type": "markdown",
   "metadata": {},
   "source": [
    "IDENTIFICACIÓN "
   ]
  },
  {
   "cell_type": "code",
   "execution_count": 15,
   "metadata": {},
   "outputs": [
    {
     "name": "stdout",
     "output_type": "stream",
     "text": [
      "0    1\n",
      "1    6\n",
      "2    3\n",
      "3    3\n",
      "4    1\n",
      "Name: COMPONENTE, dtype: int64\n"
     ]
    }
   ],
   "source": [
    "# Seleccionar la columna de interés\n",
    "componente = personas['COMPONENTE']\n",
    "\n",
    "# Mostrar los primeros registros para verificar\n",
    "print(componente.head())"
   ]
  },
  {
   "cell_type": "markdown",
   "metadata": {},
   "source": [
    "CARACTERISTICAS DE LOS MIMBROS DEL HOGAR"
   ]
  },
  {
   "cell_type": "code",
   "execution_count": 3,
   "metadata": {},
   "outputs": [
    {
     "name": "stdout",
     "output_type": "stream",
     "text": [
      "Número de varones (hombres): 37177\n",
      "Número de mujeres: 40465\n"
     ]
    }
   ],
   "source": [
    "\n",
    "\n",
    "# Contar el número de hombres (varones) y mujeres\n",
    "conteo_sexo = personas['CH04'].value_counts()\n",
    "\n",
    "# Mostrar el resultado\n",
    "print(\"Número de varones (hombres):\", conteo_sexo.get(1, 0))\n",
    "print(\"Número de mujeres:\", conteo_sexo.get(2, 0))\n"
   ]
  },
  {
   "cell_type": "code",
   "execution_count": 4,
   "metadata": {},
   "outputs": [
    {
     "name": "stdout",
     "output_type": "stream",
     "text": [
      "Hombres:\n",
      "CH06\n",
      "-1     331\n",
      " 1     369\n",
      " 2     424\n",
      " 3     523\n",
      " 4     503\n",
      "      ... \n",
      " 94      9\n",
      " 95      5\n",
      " 96      4\n",
      " 97      1\n",
      " 98      4\n",
      "Name: count, Length: 99, dtype: int64\n",
      "\n",
      "Mujeres:\n",
      "CH06\n",
      "-1      337\n",
      " 1      352\n",
      " 2      441\n",
      " 3      454\n",
      " 4      548\n",
      "       ... \n",
      " 99       3\n",
      " 100      2\n",
      " 101      2\n",
      " 102      1\n",
      " 103      1\n",
      "Name: count, Length: 104, dtype: int64\n"
     ]
    }
   ],
   "source": [
    "\n",
    "\n",
    "# Separar los datos por sexo\n",
    "hombres = personas[personas['CH04'] == 1]  # Filtrar hombres\n",
    "mujeres = personas[personas['CH04'] == 2]  # Filtrar mujeres\n",
    "\n",
    "# Contar la cantidad de hombres por grupo de edad\n",
    "conteo_hombres = hombres['CH06'].value_counts().sort_index()\n",
    "\n",
    "# Contar la cantidad de mujeres por grupo de edad\n",
    "conteo_mujeres = mujeres['CH06'].value_counts().sort_index()\n",
    "\n",
    "# Mostrar los resultados\n",
    "print(\"Hombres:\")\n",
    "print(conteo_hombres)\n",
    "print(\"\\nMujeres:\")\n",
    "print(conteo_mujeres)\n"
   ]
  },
  {
   "cell_type": "code",
   "execution_count": 5,
   "metadata": {},
   "outputs": [
    {
     "name": "stdout",
     "output_type": "stream",
     "text": [
      "Unido: 13685\n",
      "Casado: 15729\n",
      "Separado o divorciado: 4516\n",
      "Viudo: 4019\n",
      "Soltero: 39693\n"
     ]
    }
   ],
   "source": [
    "# Contar el número de personas según el estado civil\n",
    "estado_civil_counts = personas['CH07'].value_counts()\n",
    "\n",
    "# Crear un diccionario para mapear los códigos a los estados civiles correspondientes\n",
    "mapeo_estado_civil = {\n",
    "    1: 'Unido',\n",
    "    2: 'Casado',\n",
    "    3: 'Separado o divorciado',\n",
    "    4: 'Viudo',\n",
    "    5: 'Soltero'\n",
    "}\n",
    "\n",
    "# Crear una nueva columna 'Estado Civil' con los estados civiles mapeados\n",
    "personas['Estado Civil'] = personas['CH07'].map(mapeo_estado_civil)\n",
    "\n",
    "# Separar los datos por estado civil\n",
    "unido = personas[personas['Estado Civil'] == 'Unido']\n",
    "casado = personas[personas['Estado Civil'] == 'Casado']\n",
    "separado_divorciado = personas[personas['Estado Civil'] == 'Separado o divorciado']\n",
    "viudo = personas[personas['Estado Civil'] == 'Viudo']\n",
    "soltero = personas[personas['Estado Civil'] == 'Soltero']\n",
    "\n",
    "# Mostrar los resultados\n",
    "print(\"Unido:\", len(unido))\n",
    "print(\"Casado:\", len(casado))\n",
    "print(\"Separado o divorciado:\", len(separado_divorciado))\n",
    "print(\"Viudo:\", len(viudo))\n",
    "print(\"Soltero:\", len(soltero))\n"
   ]
  },
  {
   "cell_type": "code",
   "execution_count": 6,
   "metadata": {},
   "outputs": [
    {
     "name": "stdout",
     "output_type": "stream",
     "text": [
      "Obra Social: 47321\n",
      "Mutual/Prepaga/Servicio de Emergencia: 3066\n",
      "Planes y Seguros Públicos: 2087\n",
      "No paga ni le descuentan: 25977\n",
      "Ns/Nr: 96\n"
     ]
    }
   ],
   "source": [
    "# Contar el número de personas según el tipo de cobertura médica\n",
    "cobertura_counts = personas['CH08'].value_counts()\n",
    "\n",
    "# Crear un diccionario para mapear los códigos a los tipos de cobertura médica correspondientes\n",
    "mapeo_cobertura = {\n",
    "    1: 'Obra social',\n",
    "    2: 'Mutual/prepaga/servicio de emergencia',\n",
    "    3: 'Planes y seguros públicos',\n",
    "    4: 'No paga ni le descuentan',\n",
    "    9: 'Ns/Nr',\n",
    "    12: 'Obra social y Mutual/prepaga/servicio de emergencia',\n",
    "    13: 'Obra social y Planes y seguros públicos',\n",
    "    23: 'Mutual/prepaga/servicio de emergencia y Planes y seguros públicos',\n",
    "    123: 'Obra social, Mutual/prepaga/servicio de emergencia y Planes y seguros públicos'\n",
    "}\n",
    "\n",
    "# Crear una nueva columna 'Cobertura Médica' con los tipos de cobertura médica mapeados\n",
    "personas['Cobertura Médica'] = personas['CH08'].map(mapeo_cobertura)\n",
    "\n",
    "# Separar los datos por tipo de cobertura médica\n",
    "obra_social = personas[personas['Cobertura Médica'].str.contains('Obra social', na=False)]\n",
    "mutual_prepaga = personas[personas['Cobertura Médica'].str.contains('Mutual/prepaga/servicio de emergencia', na=False)]\n",
    "planes_seguros_publicos = personas[personas['Cobertura Médica'].str.contains('Planes y seguros públicos', na=False)]\n",
    "no_cobertura = personas[personas['Cobertura Médica'] == 'No paga ni le descuentan']\n",
    "no_sabe_no_responde = personas[personas['Cobertura Médica'] == 'Ns/Nr']\n",
    "\n",
    "# Mostrar los resultados\n",
    "print(\"Obra Social:\", len(obra_social))\n",
    "print(\"Mutual/Prepaga/Servicio de Emergencia:\", len(mutual_prepaga))\n",
    "print(\"Planes y Seguros Públicos:\", len(planes_seguros_publicos))\n",
    "print(\"No paga ni le descuentan:\", len(no_cobertura))\n",
    "print(\"Ns/Nr:\", len(no_sabe_no_responde))\n"
   ]
  },
  {
   "cell_type": "code",
   "execution_count": 7,
   "metadata": {},
   "outputs": [
    {
     "name": "stdout",
     "output_type": "stream",
     "text": [
      "Personas que saben leer y escribir: 71479\n",
      "Personas que no saben leer y escribir: 4772\n"
     ]
    }
   ],
   "source": [
    "# Contar el número de personas que saben leer y escribir y los que no\n",
    "sabe_leer_escribir = personas[personas['CH09'] == 1]\n",
    "no_sabe_leer_escribir = personas[personas['CH09'] == 2]\n",
    "\n",
    "# Mostrar los resultados\n",
    "print(\"Personas que saben leer y escribir:\", len(sabe_leer_escribir))\n",
    "print(\"Personas que no saben leer y escribir:\", len(no_sabe_leer_escribir))\n"
   ]
  },
  {
   "cell_type": "code",
   "execution_count": 8,
   "metadata": {},
   "outputs": [
    {
     "name": "stdout",
     "output_type": "stream",
     "text": [
      "Personas que asisten a un establecimiento educativo: 23486\n",
      "Personas que no asisten actualmente pero asistieron en el pasado: 50675\n",
      "Personas que nunca asistieron a un establecimiento educativo: 2090\n"
     ]
    }
   ],
   "source": [
    "# Contar el número de personas que asisten, asistieron y nunca asistieron a un establecimiento educativo\n",
    "asiste = personas[personas['CH10'] == 1]\n",
    "asistio = personas[personas['CH10'] == 2]\n",
    "nunca_asistio = personas[personas['CH10'] == 3]\n",
    "\n",
    "# Mostrar los resultados\n",
    "print(\"Personas que asisten a un establecimiento educativo:\", len(asiste))\n",
    "print(\"Personas que no asisten actualmente pero asistieron en el pasado:\", len(asistio))\n",
    "print(\"Personas que nunca asistieron a un establecimiento educativo:\", len(nunca_asistio))"
   ]
  },
  {
   "cell_type": "code",
   "execution_count": 9,
   "metadata": {},
   "outputs": [
    {
     "name": "stdout",
     "output_type": "stream",
     "text": [
      "Personas que asisten o asistieron a un establecimiento público: 19401\n",
      "Personas que asisten o asistieron a un establecimiento privado: 4067\n",
      "Personas para las cuales no se sabe o no respondieron: 20\n"
     ]
    }
   ],
   "source": [
    "# Contar el número de personas que asisten o asistieron a establecimientos públicos y privados\n",
    "publico = personas[personas['CH11'] == 1]\n",
    "privado = personas[personas['CH11'] == 2]\n",
    "ns_nr = personas[personas['CH11'] == 9]\n",
    "\n",
    "# Mostrar los resultados\n",
    "print(\"Personas que asisten o asistieron a un establecimiento público:\", len(publico))\n",
    "print(\"Personas que asisten o asistieron a un establecimiento privado:\", len(privado))\n",
    "print(\"Personas para las cuales no se sabe o no respondieron:\", len(ns_nr))\n"
   ]
  },
  {
   "cell_type": "code",
   "execution_count": 10,
   "metadata": {},
   "outputs": [
    {
     "name": "stdout",
     "output_type": "stream",
     "text": [
      "Personas que cursaron o cursan Jardín/preescolar: 2509\n",
      "Personas que cursaron o cursan Primario: 20978\n",
      "Personas que cursaron o cursan EGB: 1250\n",
      "Personas que cursaron o cursan Secundario: 30327\n",
      "Personas que cursaron o cursan Polimodal: 936\n",
      "Personas que cursaron o cursan Terciario: 8006\n",
      "Personas que cursaron o cursan Universitario: 9323\n",
      "Personas que cursaron o cursan Posgrado universitario: 395\n",
      "Personas que cursaron o cursan Educación especial (discapacitado): 428\n"
     ]
    }
   ],
   "source": [
    "# Contar el número de personas según el nivel educativo más alto cursado\n",
    "nivel_jardin = personas[personas['CH12'] == 1]\n",
    "nivel_primario = personas[personas['CH12'] == 2]\n",
    "nivel_egb = personas[personas['CH12'] == 3]\n",
    "nivel_secundario = personas[personas['CH12'] == 4]\n",
    "nivel_polimodal = personas[personas['CH12'] == 5]\n",
    "nivel_terciario = personas[personas['CH12'] == 6]\n",
    "nivel_universitario = personas[personas['CH12'] == 7]\n",
    "nivel_posgrado = personas[personas['CH12'] == 8]\n",
    "nivel_educacion_especial = personas[personas['CH12'] == 9]\n",
    "\n",
    "# Mostrar los resultados\n",
    "print(\"Personas que cursaron o cursan Jardín/preescolar:\", len(nivel_jardin))\n",
    "print(\"Personas que cursaron o cursan Primario:\", len(nivel_primario))\n",
    "print(\"Personas que cursaron o cursan EGB:\", len(nivel_egb))\n",
    "print(\"Personas que cursaron o cursan Secundario:\", len(nivel_secundario))\n",
    "print(\"Personas que cursaron o cursan Polimodal:\", len(nivel_polimodal))\n",
    "print(\"Personas que cursaron o cursan Terciario:\", len(nivel_terciario))\n",
    "print(\"Personas que cursaron o cursan Universitario:\", len(nivel_universitario))\n",
    "print(\"Personas que cursaron o cursan Posgrado universitario:\", len(nivel_posgrado))\n",
    "print(\"Personas que cursaron o cursan Educación especial (discapacitado):\", len(nivel_educacion_especial))\n"
   ]
  },
  {
   "cell_type": "code",
   "execution_count": 11,
   "metadata": {},
   "outputs": [
    {
     "name": "stdout",
     "output_type": "stream",
     "text": [
      "Jardín/preescolar:\n",
      "  Personas que finalizaron: 102\n",
      "  Personas que no finalizaron: 2407\n",
      "Primario:\n",
      "  Personas que finalizaron: 10106\n",
      "  Personas que no finalizaron: 10872\n",
      "EGB:\n",
      "  Personas que finalizaron: 169\n",
      "  Personas que no finalizaron: 1081\n",
      "Secundario:\n",
      "  Personas que finalizaron: 14805\n",
      "  Personas que no finalizaron: 15522\n",
      "Polimodal:\n",
      "  Personas que finalizaron: 557\n",
      "  Personas que no finalizaron: 379\n",
      "Terciario:\n",
      "  Personas que finalizaron: 5029\n",
      "  Personas que no finalizaron: 2977\n",
      "Universitario:\n",
      "  Personas que finalizaron: 4080\n",
      "  Personas que no finalizaron: 5243\n",
      "Posgrado universitario:\n",
      "  Personas que finalizaron: 282\n",
      "  Personas que no finalizaron: 113\n",
      "Educación especial (discapacitado):\n",
      "  Personas que finalizaron: 88\n",
      "  Personas que no finalizaron: 340\n"
     ]
    }
   ],
   "source": [
    "# Contar el número de personas que finalizaron y no finalizaron cada nivel educativo\n",
    "finalizo_jardin = personas[(personas['CH12'] == 1) & (personas['CH13'] == 1)]\n",
    "no_finalizo_jardin = personas[(personas['CH12'] == 1) & (personas['CH13'] == 2)]\n",
    "\n",
    "finalizo_primario = personas[(personas['CH12'] == 2) & (personas['CH13'] == 1)]\n",
    "no_finalizo_primario = personas[(personas['CH12'] == 2) & (personas['CH13'] == 2)]\n",
    "\n",
    "finalizo_egb = personas[(personas['CH12'] == 3) & (personas['CH13'] == 1)]\n",
    "no_finalizo_egb = personas[(personas['CH12'] == 3) & (personas['CH13'] == 2)]\n",
    "\n",
    "finalizo_secundario = personas[(personas['CH12'] == 4) & (personas['CH13'] == 1)]\n",
    "no_finalizo_secundario = personas[(personas['CH12'] == 4) & (personas['CH13'] == 2)]\n",
    "\n",
    "finalizo_polimodal = personas[(personas['CH12'] == 5) & (personas['CH13'] == 1)]\n",
    "no_finalizo_polimodal = personas[(personas['CH12'] == 5) & (personas['CH13'] == 2)]\n",
    "\n",
    "finalizo_terciario = personas[(personas['CH12'] == 6) & (personas['CH13'] == 1)]\n",
    "no_finalizo_terciario = personas[(personas['CH12'] == 6) & (personas['CH13'] == 2)]\n",
    "\n",
    "finalizo_universitario = personas[(personas['CH12'] == 7) & (personas['CH13'] == 1)]\n",
    "no_finalizo_universitario = personas[(personas['CH12'] == 7) & (personas['CH13'] == 2)]\n",
    "\n",
    "finalizo_posgrado = personas[(personas['CH12'] == 8) & (personas['CH13'] == 1)]\n",
    "no_finalizo_posgrado = personas[(personas['CH12'] == 8) & (personas['CH13'] == 2)]\n",
    "\n",
    "finalizo_educacion_especial = personas[(personas['CH12'] == 9) & (personas['CH13'] == 1)]\n",
    "no_finalizo_educacion_especial = personas[(personas['CH12'] == 9) & (personas['CH13'] == 2)]\n",
    "\n",
    "# Mostrar los resultados\n",
    "print(\"Jardín/preescolar:\")\n",
    "print(\"  Personas que finalizaron:\", len(finalizo_jardin))\n",
    "print(\"  Personas que no finalizaron:\", len(no_finalizo_jardin))\n",
    "\n",
    "print(\"Primario:\")\n",
    "print(\"  Personas que finalizaron:\", len(finalizo_primario))\n",
    "print(\"  Personas que no finalizaron:\", len(no_finalizo_primario))\n",
    "\n",
    "print(\"EGB:\")\n",
    "print(\"  Personas que finalizaron:\", len(finalizo_egb))\n",
    "print(\"  Personas que no finalizaron:\", len(no_finalizo_egb))\n",
    "\n",
    "print(\"Secundario:\")\n",
    "print(\"  Personas que finalizaron:\", len(finalizo_secundario))\n",
    "print(\"  Personas que no finalizaron:\", len(no_finalizo_secundario))\n",
    "\n",
    "print(\"Polimodal:\")\n",
    "print(\"  Personas que finalizaron:\", len(finalizo_polimodal))\n",
    "print(\"  Personas que no finalizaron:\", len(no_finalizo_polimodal))\n",
    "\n",
    "print(\"Terciario:\")\n",
    "print(\"  Personas que finalizaron:\", len(finalizo_terciario))\n",
    "print(\"  Personas que no finalizaron:\", len(no_finalizo_terciario))\n",
    "\n",
    "print(\"Universitario:\")\n",
    "print(\"  Personas que finalizaron:\", len(finalizo_universitario))\n",
    "print(\"  Personas que no finalizaron:\", len(no_finalizo_universitario))\n",
    "\n",
    "print(\"Posgrado universitario:\")\n",
    "print(\"  Personas que finalizaron:\", len(finalizo_posgrado))\n",
    "print(\"  Personas que no finalizaron:\", len(no_finalizo_posgrado))\n",
    "\n",
    "print(\"Educación especial (discapacitado):\")\n",
    "print(\"  Personas que finalizaron:\", len(finalizo_educacion_especial))\n",
    "print(\"  Personas que no finalizaron:\", len(no_finalizo_educacion_especial))\n"
   ]
  },
  {
   "cell_type": "code",
   "execution_count": 12,
   "metadata": {},
   "outputs": [
    {
     "name": "stdout",
     "output_type": "stream",
     "text": [
      "Último año aprobado:\n",
      "Año 0.0: 6499 personas\n",
      "Año 1.0: 6055 personas\n",
      "Año 2.0: 7748 personas\n",
      "Año 3.0: 7528 personas\n",
      "Año 4.0: 5330 personas\n",
      "Año 5.0: 3181 personas\n",
      "Año 6.0: 1296 personas\n",
      "Año 7.0: 145 personas\n",
      "Año 8.0: 238 personas\n",
      "Año 9.0: 29 personas\n",
      "Año 98.0: 341 personas\n",
      "Año 99.0: 555 personas\n"
     ]
    }
   ],
   "source": [
    "# Contar el número de personas que aprobaron cada año educativo\n",
    "ultimo_ano_aprobado = personas.groupby('CH14').size()\n",
    "\n",
    "# Mostrar los resultados\n",
    "print(\"Último año aprobado:\")\n",
    "for ano, cantidad in ultimo_ano_aprobado.items():\n",
    "    print(f\"Año {ano}: {cantidad} personas\")\n"
   ]
  },
  {
   "cell_type": "code",
   "execution_count": 13,
   "metadata": {},
   "outputs": [
    {
     "name": "stdout",
     "output_type": "stream",
     "text": [
      "Lugar de nacimiento:\n",
      "CH15\n",
      "En esta localidad                      56686\n",
      "En otra provincia                       9737\n",
      "En otra localidad de esta provincia     9072\n",
      "En un país limítrofe                    1533\n",
      "En otro país                             578\n",
      "Ns/Nr                                     36\n",
      "Name: count, dtype: int64\n"
     ]
    }
   ],
   "source": [
    "# Mapear los códigos de CH15 a sus descripciones\n",
    "descripcion_ch15 = {\n",
    "    1: 'En esta localidad',\n",
    "    2: 'En otra localidad de esta provincia',\n",
    "    3: 'En otra provincia',\n",
    "    4: 'En un país limítrofe',\n",
    "    5: 'En otro país',\n",
    "    9: 'Ns/Nr'\n",
    "}\n",
    "\n",
    "# Contar el número de personas según el lugar de nacimiento\n",
    "lugar_nacimiento = personas['CH15'].map(descripcion_ch15).value_counts()\n",
    "\n",
    "# Mostrar los resultados\n",
    "print(\"Lugar de nacimiento:\")\n",
    "print(lugar_nacimiento)\n"
   ]
  },
  {
   "cell_type": "code",
   "execution_count": 14,
   "metadata": {},
   "outputs": [
    {
     "name": "stdout",
     "output_type": "stream",
     "text": [
      "Lugar de residencia hace 5 años:\n",
      "CH16\n",
      "En esta localidad                      71193\n",
      "No había nacido                         4408\n",
      "En otra provincia                        967\n",
      "En otra localidad de esta provincia      846\n",
      "En otro país                             157\n",
      "En un país limítrofe                      51\n",
      "Ns/Nr                                     19\n",
      "Name: count, dtype: int64\n"
     ]
    }
   ],
   "source": [
    "# Mapear los códigos de CH16 a sus descripciones\n",
    "descripcion_ch16 = {\n",
    "    1: 'En esta localidad',\n",
    "    2: 'En otra localidad de esta provincia',\n",
    "    3: 'En otra provincia',\n",
    "    4: 'En un país limítrofe',\n",
    "    5: 'En otro país',\n",
    "    6: 'No había nacido',\n",
    "    9: 'Ns/Nr'\n",
    "}\n",
    "\n",
    "# Contar el número de personas según el lugar de residencia hace 5 años\n",
    "lugar_residencia_5_anios = personas['CH16'].map(descripcion_ch16).value_counts()\n",
    "\n",
    "# Mostrar los resultados\n",
    "print(\"Lugar de residencia hace 5 años:\")\n",
    "print(lugar_residencia_5_anios)\n"
   ]
  },
  {
   "cell_type": "code",
   "execution_count": 15,
   "metadata": {},
   "outputs": [
    {
     "name": "stdout",
     "output_type": "stream",
     "text": [
      "Códigos en otra provincia:\n",
      "CH16_COD\n",
      "6.0      284\n",
      "14.0     108\n",
      "50.0      62\n",
      "82.0      46\n",
      "66.0      41\n",
      "90.0      41\n",
      "34.0      33\n",
      "78.0      30\n",
      "54.0      30\n",
      "18.0      28\n",
      "30.0      25\n",
      "38.0      25\n",
      "58.0      25\n",
      "62.0      24\n",
      "86.0      23\n",
      "22.0      21\n",
      "46.0      18\n",
      "2.0       18\n",
      "26.0      17\n",
      "10.0      14\n",
      "94.0      14\n",
      "74.0      13\n",
      "70.0      12\n",
      "42.0      10\n",
      "999.0      5\n",
      "Name: count, dtype: int64\n",
      "\n",
      "Códigos en un país limítrofe:\n",
      "CH16_COD\n",
      "203.0    24\n",
      "221.0    13\n",
      "202.0    10\n",
      "225.0     2\n",
      "208.0     2\n",
      "Name: count, dtype: int64\n",
      "\n",
      "Códigos en otro país:\n",
      "CH16_COD\n",
      "226.0    104\n",
      "205.0     19\n",
      "212.0      8\n",
      "210.0      5\n",
      "222.0      5\n",
      "410.0      4\n",
      "209.0      4\n",
      "308.0      3\n",
      "218.0      2\n",
      "320.0      2\n",
      "417.0      1\n",
      "Name: count, dtype: int64\n"
     ]
    }
   ],
   "source": [
    "# Filtrar los datos por las categorías específicas en CH16\n",
    "en_otra_provincia_cod = personas.loc[personas['CH16'] == 3, 'CH16_COD']\n",
    "en_pais_limitrofe_cod = personas.loc[personas['CH16'] == 4, 'CH16_COD']\n",
    "en_otro_pais_cod = personas.loc[personas['CH16'] == 5, 'CH16_COD']\n",
    "\n",
    "# Mostrar los resultados\n",
    "print(\"Códigos en otra provincia:\")\n",
    "print(en_otra_provincia_cod.value_counts())\n",
    "\n",
    "print(\"\\nCódigos en un país limítrofe:\")\n",
    "print(en_pais_limitrofe_cod.value_counts())\n",
    "\n",
    "print(\"\\nCódigos en otro país:\")\n",
    "print(en_otro_pais_cod.value_counts())\n"
   ]
  },
  {
   "cell_type": "markdown",
   "metadata": {},
   "source": [
    "Nivel educativo\n",
    "1 = Primario incompleto (incluye educación especial)\n",
    "2 = primario completo\n",
    "3 = Secundario incompleto\n",
    "4 = secundario completo\n",
    "5 = Superior universitario incompleto\n",
    "6 = Superior universitario completo\n",
    "7 = Sin instrucción\n",
    "9 = Ns/ Nr\n"
   ]
  },
  {
   "cell_type": "code",
   "execution_count": 16,
   "metadata": {},
   "outputs": [
    {
     "name": "stdout",
     "output_type": "stream",
     "text": [
      "Distribución de niveles educativos:\n",
      "NIVEL_ED\n",
      "3    16395\n",
      "4    15375\n",
      "1    11970\n",
      "2    10181\n",
      "6     9507\n",
      "5     8227\n",
      "7     5987\n",
      "Name: count, dtype: int64\n"
     ]
    }
   ],
   "source": [
    "# Obtener la distribución de niveles educativos\n",
    "distribucion_nivel_educativo = personas['NIVEL_ED'].value_counts()\n",
    "\n",
    "# Mostrar los resultados\n",
    "print(\"Distribución de niveles educativos:\")\n",
    "print(distribucion_nivel_educativo)\n"
   ]
  },
  {
   "cell_type": "markdown",
   "metadata": {},
   "source": [
    "\tCondición de actividad\n",
    "    0 = Entrevista individual no realizada (no respuesta al cuestionario individual)\n",
    "    1 = Ocupado\n",
    "    2 = Desocupado\n",
    "    3 = Inactivo\n",
    "    4 = Menor de 10 años\n"
   ]
  },
  {
   "cell_type": "code",
   "execution_count": 17,
   "metadata": {},
   "outputs": [
    {
     "name": "stdout",
     "output_type": "stream",
     "text": [
      "Distribución del estado de actividad:\n",
      "ESTADO\n",
      "1    33202\n",
      "3    32234\n",
      "4    10105\n",
      "2     1982\n",
      "0      119\n",
      "Name: count, dtype: int64\n"
     ]
    }
   ],
   "source": [
    "# Obtener la distribución del estado de actividad\n",
    "distribucion_estado_actividad = personas['ESTADO'].value_counts()\n",
    "\n",
    "# Mostrar los resultados\n",
    "print(\"Distribución del estado de actividad:\")\n",
    "print(distribucion_estado_actividad)\n"
   ]
  },
  {
   "cell_type": "markdown",
   "metadata": {},
   "source": [
    "\tCategoría ocupacional (Para ocupados y desocupados con ocupación anterior)\n",
    "    1 = Patrón\n",
    "    2 = Cuenta propia\n",
    "    3 = Obrero o empleado\n",
    "    4 = Trabajador familiar sin remuneración\n",
    "    9 = Ns/Nr\n",
    "    \n"
   ]
  },
  {
   "cell_type": "code",
   "execution_count": 18,
   "metadata": {},
   "outputs": [
    {
     "name": "stdout",
     "output_type": "stream",
     "text": [
      "Distribución de la categoría ocupacional:\n",
      "CAT_OCUP\n",
      "3.0    25490\n",
      "2.0     7765\n",
      "1.0     1224\n",
      "0.0      531\n",
      "4.0      173\n",
      "9.0        1\n",
      "Name: count, dtype: int64\n"
     ]
    }
   ],
   "source": [
    "# Obtener la distribución de la categoría ocupacional\n",
    "distribucion_categoria_ocupacional = personas['CAT_OCUP'].value_counts()\n",
    "\n",
    "# Mostrar los resultados\n",
    "print(\"Distribución de la categoría ocupacional:\")\n",
    "print(distribucion_categoria_ocupacional)\n"
   ]
  },
  {
   "cell_type": "markdown",
   "metadata": {},
   "source": [
    "Categoría de inactividad\n",
    "1 = Jubilado / Pensionado\n",
    "2 = Rentista\n",
    "3 = Estudiante\n",
    "4 = Ama de casa\n",
    "5 = Menor de 6 años\n",
    "6 = Discapacitado\n",
    "7 = Otros\n"
   ]
  },
  {
   "cell_type": "code",
   "execution_count": 19,
   "metadata": {},
   "outputs": [
    {
     "name": "stdout",
     "output_type": "stream",
     "text": [
      "Distribución de la categoría de inactividad:\n",
      "CAT_INAC\n",
      "0    35303\n",
      "3    18257\n",
      "1    12288\n",
      "5     5298\n",
      "4     4955\n",
      "7     1246\n",
      "6      192\n",
      "2      103\n",
      "Name: count, dtype: int64\n"
     ]
    }
   ],
   "source": [
    "# Obtener la distribución de la categoría de inactividad\n",
    "distribucion_categoria_inactividad = personas['CAT_INAC'].value_counts()\n",
    "\n",
    "# Mostrar los resultados\n",
    "print(\"Distribución de la categoría de inactividad:\")\n",
    "print(distribucion_categoria_inactividad)\n"
   ]
  },
  {
   "cell_type": "markdown",
   "metadata": {},
   "source": [
    "¿DE QUE MANERA ESTUVO BUSCANDO TRABAJO?"
   ]
  },
  {
   "cell_type": "code",
   "execution_count": 20,
   "metadata": {},
   "outputs": [
    {
     "name": "stdout",
     "output_type": "stream",
     "text": [
      "Búsqueda de trabajo en los últimos 12 meses:\n",
      "PP02H\n",
      "0    45460\n",
      "2    31636\n",
      "1      546\n",
      "Name: count, dtype: int64\n",
      "\n",
      "Trabajó en algún momento en los últimos 12 meses:\n",
      "PP02I\n",
      "0    45407\n",
      "2    31552\n",
      "1      683\n",
      "Name: count, dtype: int64\n"
     ]
    }
   ],
   "source": [
    "\n",
    "\n",
    "# Obtener la distribución de respuestas sobre búsqueda de trabajo en los últimos 12 meses\n",
    "busco_trabajo_12_meses = personas['PP02H'].value_counts()\n",
    "\n",
    "# Obtener la distribución de respuestas sobre haber trabajado en algún momento en los últimos 12 meses\n",
    "trabajo_12_meses = personas['PP02I'].value_counts()\n",
    "\n",
    "# Mostrar los resultados\n",
    "print(\"Búsqueda de trabajo en los últimos 12 meses:\")\n",
    "print(busco_trabajo_12_meses)\n",
    "\n",
    "print(\"\\nTrabajó en algún momento en los últimos 12 meses:\")\n",
    "print(trabajo_12_meses)\n"
   ]
  },
  {
   "cell_type": "code",
   "execution_count": 21,
   "metadata": {},
   "outputs": [
    {
     "name": "stdout",
     "output_type": "stream",
     "text": [
      "Consultó a parientes o amigos en su búsqueda de empleo:\n",
      "PP02C6\n",
      "0    75825\n",
      "1     1165\n",
      "2      652\n",
      "Name: count, dtype: int64\n"
     ]
    }
   ],
   "source": [
    "\n",
    "\n",
    "# Obtener la distribución de respuestas sobre consultar a parientes o amigos\n",
    "consulto_parientes_amigos = personas['PP02C6'].value_counts()\n",
    "\n",
    "# Mostrar los resultados\n",
    "print(\"Consultó a parientes o amigos en su búsqueda de empleo:\")\n",
    "print(consulto_parientes_amigos)\n"
   ]
  },
  {
   "cell_type": "code",
   "execution_count": 22,
   "metadata": {},
   "outputs": [
    {
     "name": "stdout",
     "output_type": "stream",
     "text": [
      "Se anotaron en bolsas, listas, planes de empleo, agencias, contratistas, o alguien les está buscando trabajo:\n",
      "PP02C7\n",
      "0    75825\n",
      "2     1653\n",
      "1      164\n",
      "Name: count, dtype: int64\n"
     ]
    }
   ],
   "source": [
    "\n",
    "\n",
    "# Obtener la distribución de respuestas sobre si se anotaron en bolsas, listas, etc.\n",
    "anotado_planes_empleo = personas['PP02C7'].value_counts()\n",
    "\n",
    "# Mostrar los resultados\n",
    "print(\"Se anotaron en bolsas, listas, planes de empleo, agencias, contratistas, o alguien les está buscando trabajo:\")\n",
    "print(anotado_planes_empleo)\n"
   ]
  },
  {
   "cell_type": "markdown",
   "metadata": {},
   "source": [
    "Durante esos 30 días, no buscó trabajo porque…\n",
    "1= está suspendido\n",
    "2= ya tiene trabajo asegurado\n",
    "3= se cansó de buscar trabajo\n",
    "4= hay poco trabajo en esta época del año\n",
    "5= por otras razones\n"
   ]
  },
  {
   "cell_type": "code",
   "execution_count": 23,
   "metadata": {},
   "outputs": [
    {
     "name": "stdout",
     "output_type": "stream",
     "text": [
      "Razones por las cuales no buscaron trabajo durante los últimos 30 días:\n",
      "PP02E\n",
      "0    77381\n",
      "5      113\n",
      "3       66\n",
      "4       59\n",
      "2       20\n",
      "1        3\n",
      "Name: count, dtype: int64\n"
     ]
    }
   ],
   "source": [
    "\n",
    "\n",
    "# Obtener la distribución de razones por las cuales no buscaron trabajo\n",
    "razones_no_busqueda = personas['PP02E'].value_counts()\n",
    "\n",
    "# Mostrar los resultados\n",
    "print(\"Razones por las cuales no buscaron trabajo durante los últimos 30 días:\")\n",
    "print(razones_no_busqueda)\n"
   ]
  },
  {
   "cell_type": "markdown",
   "metadata": {},
   "source": [
    "En los últimos 12 meses ¿buscó trabajo en algún momento?\n",
    "1 = Sí\n",
    "2 = No\n"
   ]
  },
  {
   "cell_type": "code",
   "execution_count": 24,
   "metadata": {},
   "outputs": [
    {
     "name": "stdout",
     "output_type": "stream",
     "text": [
      "¿Buscó trabajo en algún momento durante los últimos 12 meses?\n",
      "PP02H\n",
      "0    45460\n",
      "2    31636\n",
      "1      546\n",
      "Name: count, dtype: int64\n"
     ]
    }
   ],
   "source": [
    "\n",
    "\n",
    "# Obtener la distribución de respuestas sobre si buscaron trabajo en los últimos 12 meses\n",
    "busco_trabajo_12_meses = personas['PP02H'].value_counts()\n",
    "\n",
    "# Mostrar los resultados\n",
    "print(\"¿Buscó trabajo en algún momento durante los últimos 12 meses?\")\n",
    "print(busco_trabajo_12_meses)\n"
   ]
  },
  {
   "cell_type": "markdown",
   "metadata": {},
   "source": [
    "¿Trabajó en algún momento durante los últimos 12 meses?\n",
    "1 = Sí\n",
    "2 = No\n"
   ]
  },
  {
   "cell_type": "code",
   "execution_count": 25,
   "metadata": {},
   "outputs": [
    {
     "name": "stdout",
     "output_type": "stream",
     "text": [
      "¿Trabajó en algún momento durante los últimos 12 meses?\n",
      "PP02I\n",
      "0    45407\n",
      "2    31552\n",
      "1      683\n",
      "Name: count, dtype: int64\n"
     ]
    }
   ],
   "source": [
    "\n",
    "\n",
    "# Obtener la distribución de respuestas sobre si trabajaron en los últimos 12 meses\n",
    "trabajo_12_meses = personas['PP02I'].value_counts()\n",
    "\n",
    "# Mostrar los resultados\n",
    "print(\"¿Trabajó en algún momento durante los últimos 12 meses?\")\n",
    "print(trabajo_12_meses)\n"
   ]
  },
  {
   "cell_type": "markdown",
   "metadata": {},
   "source": [
    "OCUPACIÓN PRINCIPAL"
   ]
  },
  {
   "cell_type": "markdown",
   "metadata": {},
   "source": [
    "¿El negocio / empresa / institución / actividad en la que trabaja es... (se refiere al que trabaja más horas semanales)\n",
    "1 = ...estatal?\n",
    "2 =... privada?\n",
    "3 =... de otro tipo? (especificar) \n"
   ]
  },
  {
   "cell_type": "code",
   "execution_count": 26,
   "metadata": {},
   "outputs": [
    {
     "name": "stdout",
     "output_type": "stream",
     "text": [
      "Tipo de trabajo:\n",
      "PP04A\n",
      "0    44440\n",
      "2    24814\n",
      "1     7973\n",
      "3      410\n",
      "9        5\n",
      "Name: count, dtype: int64\n"
     ]
    }
   ],
   "source": [
    "# Obtener la distribución de respuestas sobre el tipo de trabajo\n",
    "tipo_trabajo = personas['PP04A'].value_counts()\n",
    "\n",
    "# Mostrar los resultados\n",
    "print(\"Tipo de trabajo:\")\n",
    "print(tipo_trabajo)"
   ]
  },
  {
   "cell_type": "markdown",
   "metadata": {},
   "source": [
    "¿A qué se dedica o produce el negocio / empresa / institución?\n",
    "(Ver Clasificador de Actividades Económicas para Encuestas Sociodemográficas del Mercosur, CAES-Mercosur)\"\n"
   ]
  },
  {
   "cell_type": "code",
   "execution_count": 27,
   "metadata": {},
   "outputs": [
    {
     "name": "stdout",
     "output_type": "stream",
     "text": [
      "Actividad económica:\n",
      "PP04B_COD\n",
      "0       44440\n",
      "8401     3800\n",
      "4000     3261\n",
      "8501     2629\n",
      "9700     2350\n",
      "        ...  \n",
      "6           1\n",
      "64          1\n",
      "96          1\n",
      "4902        1\n",
      "52          1\n",
      "Name: count, Length: 151, dtype: int64\n"
     ]
    }
   ],
   "source": [
    "# Obtener la distribución de respuestas sobre la actividad económica\n",
    "actividad_economica = personas['PP04B_COD'].value_counts()\n",
    "\n",
    "# Mostrar los resultados\n",
    "print(\"Actividad económica:\")\n",
    "print(actividad_economica)"
   ]
  },
  {
   "cell_type": "markdown",
   "metadata": {},
   "source": [
    "Si presta servicio doméstico en hogares particulares\n",
    "1 = casa de familia\n",
    "\n"
   ]
  },
  {
   "cell_type": "code",
   "execution_count": 28,
   "metadata": {},
   "outputs": [
    {
     "name": "stdout",
     "output_type": "stream",
     "text": [
      "Número de personas que prestan servicio doméstico en hogares particulares: 2290\n"
     ]
    }
   ],
   "source": [
    "# Filtrar las personas que prestan servicio doméstico en hogares particulares\n",
    "servicio_domestico = personas[personas['PP04B1'] == 1]\n",
    "\n",
    "# Contar el número de personas que prestan servicio doméstico\n",
    "num_personas_servicio_domestico = len(servicio_domestico)\n",
    "\n",
    "# Mostrar el resultado\n",
    "print(\"Número de personas que prestan servicio doméstico en hogares particulares:\", num_personas_servicio_domestico)"
   ]
  },
  {
   "cell_type": "markdown",
   "metadata": {},
   "source": [
    "¿En cuántas casas trabaja? (cantidad)\n"
   ]
  },
  {
   "cell_type": "code",
   "execution_count": 29,
   "metadata": {},
   "outputs": [
    {
     "name": "stdout",
     "output_type": "stream",
     "text": [
      "Cantidad de personas que prestan servicio doméstico en hogares particulares según la cantidad de casas en las que trabajan:\n",
      "PP04B2\n",
      "1     1818\n",
      "2      272\n",
      "3      128\n",
      "4       28\n",
      "5       24\n",
      "7        6\n",
      "6        6\n",
      "8        5\n",
      "9        1\n",
      "10       1\n",
      "11       1\n",
      "Name: count, dtype: int64\n"
     ]
    }
   ],
   "source": [
    "# Filtrar las personas que prestan servicio doméstico en hogares particulares\n",
    "servicio_domestico = personas[personas['PP04B1'] == 1]\n",
    "\n",
    "# Obtener la cantidad de casas en las que trabaja cada persona\n",
    "casas_trabajo = servicio_domestico['PP04B2']\n",
    "\n",
    "# Contar la cantidad total de personas que trabajan en cada cantidad de casas\n",
    "conteo_casas = casas_trabajo.value_counts()\n",
    "\n",
    "# Mostrar el resultado\n",
    "print(\"Cantidad de personas que prestan servicio doméstico en hogares particulares según la cantidad de casas en las que trabajan:\")\n",
    "print(conteo_casas)"
   ]
  },
  {
   "cell_type": "markdown",
   "metadata": {},
   "source": [
    "¿Dónde realiza principalmente sus tareas? \n",
    "1 = En un local/oficina/establecimiento/negocio/taller/chacra/finca\n",
    "2 = En puesto o kiosco fijo callejero\n",
    "3 = En vehículos: bicicleta, moto, auto,  barco, bote (no incluye servicio de transporte)\n",
    "4 = En vehículo para transporte de personas y mercaderías – aéreos, marítimo, terrestre– incluye taxis, colectivos, camiones, furgones, transporte de combustible, mudanzas, etc.)\n",
    "5 = En obras en construcción, de infraestructura, minería ó similares\n",
    "6 = En esta vivienda. (sin lugar  exclusivo)\n",
    "7 = En la vivienda del socio ó del patrón\n",
    "8 = En el domicilio / local de los clientes\n",
    "9 = En la calle, espacios públicos, ambulante, de casa en casa, puesto móvil callejero\n",
    "10 = En otro lugar (especificar)\n"
   ]
  },
  {
   "cell_type": "code",
   "execution_count": 30,
   "metadata": {},
   "outputs": [
    {
     "name": "stdout",
     "output_type": "stream",
     "text": [
      "Cantidad de personas según el lugar donde realizan principalmente sus tareas:\n",
      "PP04G\n",
      "0     46730\n",
      "1     20718\n",
      "8      3288\n",
      "6      2228\n",
      "4      1379\n",
      "9      1344\n",
      "5      1222\n",
      "10      327\n",
      "3       230\n",
      "7        93\n",
      "2        78\n",
      "99        5\n",
      "Name: count, dtype: int64\n"
     ]
    }
   ],
   "source": [
    "# Obtener el conteo de las respuestas para cada categoría\n",
    "conteo_lugares = personas['PP04G'].value_counts()\n",
    "\n",
    "# Mostrar el resultado\n",
    "print(\"Cantidad de personas según el lugar donde realizan principalmente sus tareas:\")\n",
    "print(conteo_lugares)"
   ]
  },
  {
   "cell_type": "markdown",
   "metadata": {},
   "source": [
    "OCUPACIÓN PRINCIPAL DE LOS TRABAJADORES INDEPENDIENTES\n",
    "¿Cuanto hace qu trabaja en este empleo y de manera continua?"
   ]
  },
  {
   "cell_type": "markdown",
   "metadata": {},
   "source": [
    "MESES "
   ]
  },
  {
   "cell_type": "code",
   "execution_count": 31,
   "metadata": {},
   "outputs": [
    {
     "name": "stdout",
     "output_type": "stream",
     "text": [
      "Cantidad de personas según el número de meses de desempleo en los últimos 12 meses:\n",
      "PP05B2_MES\n",
      "0     77598\n",
      "6        16\n",
      "2         5\n",
      "8         5\n",
      "4         4\n",
      "5         4\n",
      "1         4\n",
      "3         2\n",
      "7         2\n",
      "11        1\n",
      "10        1\n",
      "Name: count, dtype: int64\n"
     ]
    }
   ],
   "source": [
    "# Obtener el conteo de los meses de desempleo\n",
    "conteo_meses_desempleo = personas['PP05B2_MES'].value_counts()\n",
    "\n",
    "# Mostrar el resultado\n",
    "print(\"Cantidad de personas según el número de meses de desempleo en los últimos 12 meses:\")\n",
    "print(conteo_meses_desempleo)"
   ]
  },
  {
   "cell_type": "markdown",
   "metadata": {},
   "source": [
    "AÑOS "
   ]
  },
  {
   "cell_type": "code",
   "execution_count": 38,
   "metadata": {},
   "outputs": [
    {
     "name": "stdout",
     "output_type": "stream",
     "text": [
      "Cantidad de mujeres según el número de años de desempleo en los últimos 12 meses:\n",
      "PP05B2_ANO\n",
      "0     40386\n",
      "1        20\n",
      "2        19\n",
      "5        17\n",
      "3         8\n",
      "6         4\n",
      "8         2\n",
      "4         2\n",
      "30        1\n",
      "20        1\n",
      "15        1\n",
      "19        1\n",
      "14        1\n",
      "17        1\n",
      "40        1\n",
      "Name: count, dtype: int64\n"
     ]
    }
   ],
   "source": [
    "# Filtrar por sexo para mujeres (Sexo = 2)\n",
    "mujeres = personas[personas['CH04'] == 2]\n",
    "\n",
    "# Obtener el conteo de los años de desempleo para mujeres\n",
    "conteo_anos_desempleo_mujeres = mujeres['PP05B2_ANO'].value_counts()\n",
    "\n",
    "# Mostrar el resultado para mujeres\n",
    "print(\"Cantidad de mujeres según el número de años de desempleo en los últimos 12 meses:\")\n",
    "print(conteo_anos_desempleo_mujeres)"
   ]
  },
  {
   "cell_type": "code",
   "execution_count": 39,
   "metadata": {},
   "outputs": [
    {
     "name": "stdout",
     "output_type": "stream",
     "text": [
      "Cantidad de hombres según el número de años de desempleo en los últimos 12 meses:\n",
      "PP05B2_ANO\n",
      "0     37126\n",
      "1        17\n",
      "2         9\n",
      "4         6\n",
      "5         3\n",
      "3         3\n",
      "10        3\n",
      "7         3\n",
      "6         3\n",
      "15        2\n",
      "8         1\n",
      "17        1\n",
      "Name: count, dtype: int64\n"
     ]
    }
   ],
   "source": [
    "# Filtrar por sexo para hombres (Sexo = 1)\n",
    "hombres = personas[personas['CH04'] == 1]\n",
    "\n",
    "# Obtener el conteo de los años de desempleo para hombres\n",
    "conteo_anos_desempleo_hombres = hombres['PP05B2_ANO'].value_counts()\n",
    "\n",
    "# Mostrar el resultado para hombres\n",
    "print(\"Cantidad de hombres según el número de años de desempleo en los últimos 12 meses:\")\n",
    "print(conteo_anos_desempleo_hombres)"
   ]
  },
  {
   "cell_type": "markdown",
   "metadata": {},
   "source": [
    "DÍAS "
   ]
  },
  {
   "cell_type": "code",
   "execution_count": 37,
   "metadata": {},
   "outputs": [
    {
     "name": "stdout",
     "output_type": "stream",
     "text": [
      "Cantidad de mujeres según el número de días de desempleo en los últimos 12 meses:\n",
      "PP05B2_DIA\n",
      "0     40462\n",
      "15        1\n",
      "7         1\n",
      "20        1\n",
      "Name: count, dtype: int64\n",
      "\n",
      "\n",
      "Cantidad de hombres según el número de días de desempleo en los últimos 12 meses:\n",
      "PP05B2_DIA\n",
      "0     37171\n",
      "10        1\n",
      "15        1\n",
      "2         1\n",
      "6         1\n",
      "14        1\n",
      "20        1\n",
      "Name: count, dtype: int64\n"
     ]
    }
   ],
   "source": [
    "# Filtrar por sexo para mujeres (Sexo = 2)\n",
    "mujeres = personas[personas['CH04'] == 2]\n",
    "\n",
    "# Filtrar por sexo para hombres (Sexo = 1)\n",
    "hombres = personas[personas['CH04'] == 1]\n",
    "\n",
    "# Obtener el conteo de días de desempleo para mujeres\n",
    "conteo_dias_desempleo_mujeres = mujeres['PP05B2_DIA'].value_counts()\n",
    "\n",
    "# Obtener el conteo de días de desempleo para hombres\n",
    "conteo_dias_desempleo_hombres = hombres['PP05B2_DIA'].value_counts()\n",
    "\n",
    "# Mostrar el resultado para mujeres\n",
    "print(\"Cantidad de mujeres según el número de días de desempleo en los últimos 12 meses:\")\n",
    "print(conteo_dias_desempleo_mujeres)\n",
    "print(\"\\n\")\n",
    "\n",
    "# Mostrar el resultado para hombres\n",
    "print(\"Cantidad de hombres según el número de días de desempleo en los últimos 12 meses:\")\n",
    "print(conteo_dias_desempleo_hombres)"
   ]
  },
  {
   "cell_type": "markdown",
   "metadata": {},
   "source": [
    "INGRESO DE LA OCUPACIÓN PRINCIPAL DE LOS TRABAJADORES INDEPENDINTES\n",
    "En ese negocio/empresa/actividad ¿tiene socios o familiares asociados?\n",
    "1 = Sí\n",
    "2 = No\n"
   ]
  },
  {
   "cell_type": "code",
   "execution_count": 34,
   "metadata": {},
   "outputs": [
    {
     "name": "stdout",
     "output_type": "stream",
     "text": [
      "Cantidad de personas según si tienen socios o familiares asociados en el negocio:\n",
      "PP06A\n",
      "0.0    24507\n",
      "2.0     6724\n",
      "1.0     1970\n",
      "9.0        1\n",
      "Name: count, dtype: int64\n"
     ]
    }
   ],
   "source": [
    "# Obtener el conteo de respuestas\n",
    "conteo_socios_asociados = personas['PP06A'].value_counts()\n",
    "\n",
    "# Mostrar el resultado\n",
    "print(\"Cantidad de personas según si tienen socios o familiares asociados en el negocio:\")\n",
    "print(conteo_socios_asociados)"
   ]
  },
  {
   "cell_type": "markdown",
   "metadata": {},
   "source": [
    "Monto de ingreso de patrones y cuenta propia sin socios\n"
   ]
  },
  {
   "cell_type": "code",
   "execution_count": 36,
   "metadata": {},
   "outputs": [
    {
     "name": "stdout",
     "output_type": "stream",
     "text": [
      "Conteo de montos de ingreso de patrones y cuenta propia sin socios para mujeres:\n",
      "PP06C\n",
      " 0.0         11961\n",
      "-9.0           434\n",
      " 20000.0       223\n",
      " 30000.0       206\n",
      " 50000.0       152\n",
      "             ...  \n",
      " 136000.0        1\n",
      " 2800.0          1\n",
      " 81000.0         1\n",
      " 26500.0         1\n",
      " 54000.0         1\n",
      "Name: count, Length: 116, dtype: int64\n",
      "\n",
      "\n",
      "Conteo de montos de ingreso de patrones y cuenta propia sin socios para hombres:\n",
      "PP06C\n",
      " 0.0          14517\n",
      "-9.0            737\n",
      " 40000.0        332\n",
      " 50000.0        313\n",
      " 60000.0        304\n",
      "              ...  \n",
      " 67200.0          1\n",
      " 49000.0          1\n",
      " 1800.0           1\n",
      " 2000000.0        1\n",
      " 89000.0          1\n",
      "Name: count, Length: 136, dtype: int64\n"
     ]
    }
   ],
   "source": [
    "# Filtrar por sexo para mujeres (Sexo = 2)\n",
    "mujeres = personas[personas['CH04'] == 2]\n",
    "\n",
    "# Filtrar por sexo para hombres (Sexo = 1)\n",
    "hombres = personas[personas['CH04'] == 1]\n",
    "\n",
    "# Obtener el conteo de valores únicos y sus frecuencias para mujeres y hombres\n",
    "conteo_ingresos_mujeres = mujeres['PP06C'].value_counts()\n",
    "conteo_ingresos_hombres = hombres['PP06C'].value_counts()\n",
    "\n",
    "# Mostrar el resultado\n",
    "print(\"Conteo de montos de ingreso de patrones y cuenta propia sin socios para mujeres:\")\n",
    "print(conteo_ingresos_mujeres)\n",
    "print(\"\\n\")\n",
    "print(\"Conteo de montos de ingreso de patrones y cuenta propia sin socios para hombres:\")\n",
    "print(conteo_ingresos_hombres)"
   ]
  },
  {
   "cell_type": "markdown",
   "metadata": {},
   "source": [
    "OCUPACIÓN PRINCIPAL DE LOS ASALARIADOS (INCLUIDO EL SERVICIO DOMÉSTICO )"
   ]
  },
  {
   "cell_type": "markdown",
   "metadata": {},
   "source": [
    "¿En este trabajo le dan... (no excluyentes)… de comer gratis en el lugar de trabajo?\n",
    "1 = Sí\n",
    "2 = No\n"
   ]
  },
  {
   "cell_type": "code",
   "execution_count": 40,
   "metadata": {},
   "outputs": [
    {
     "name": "stdout",
     "output_type": "stream",
     "text": [
      "Respuestas de mujeres sobre si les dan comida gratis en el trabajo:\n",
      "PP07F1\n",
      "2.0    9318\n",
      "0.0    3455\n",
      "1.0    1771\n",
      "9.0       5\n",
      "Name: count, dtype: int64\n"
     ]
    }
   ],
   "source": [
    "# Filtrar por sexo para mujeres (Sexo = 2)\n",
    "mujeres = personas[personas['CH04'] == 2]\n",
    "\n",
    "# Obtener el conteo de respuestas sobre si les dan comida gratis en el trabajo para mujeres\n",
    "conteo_comida_gratis_mujeres = mujeres['PP07F1'].value_counts()\n",
    "\n",
    "# Mostrar el resultado para mujeres\n",
    "print(\"Respuestas de mujeres sobre si les dan comida gratis en el trabajo:\")\n",
    "print(conteo_comida_gratis_mujeres)"
   ]
  },
  {
   "cell_type": "code",
   "execution_count": 41,
   "metadata": {},
   "outputs": [
    {
     "name": "stdout",
     "output_type": "stream",
     "text": [
      "Respuestas de hombres sobre si les dan comida gratis en el trabajo:\n",
      "PP07F1\n",
      "2.0    11575\n",
      "0.0     5411\n",
      "1.0     1655\n",
      "9.0       12\n",
      "Name: count, dtype: int64\n"
     ]
    }
   ],
   "source": [
    "# Filtrar por sexo para hombres (Sexo = 1)\n",
    "hombres = personas[personas['CH04'] == 1]\n",
    "\n",
    "# Obtener el conteo de respuestas sobre si les dan comida gratis en el trabajo para hombres\n",
    "conteo_comida_gratis_hombres = hombres['PP07F1'].value_counts()\n",
    "\n",
    "# Mostrar el resultado para hombres\n",
    "print(\"Respuestas de hombres sobre si les dan comida gratis en el trabajo:\")\n",
    "print(conteo_comida_gratis_hombres)"
   ]
  },
  {
   "cell_type": "markdown",
   "metadata": {},
   "source": [
    "...vivienda?\n",
    "1 = Sí\n",
    "2 = No\n",
    "\n"
   ]
  },
  {
   "cell_type": "code",
   "execution_count": 42,
   "metadata": {},
   "outputs": [
    {
     "name": "stdout",
     "output_type": "stream",
     "text": [
      "Respuestas de mujeres sobre si les dan comida gratis en la vivienda:\n",
      "PP07F2\n",
      "2.0    11024\n",
      "0.0     3455\n",
      "1.0       67\n",
      "9.0        3\n",
      "Name: count, dtype: int64\n"
     ]
    }
   ],
   "source": [
    "# Filtrar por sexo para mujeres (Sexo = 2)\n",
    "mujeres = personas[personas['CH04'] == 2]\n",
    "\n",
    "# Obtener el conteo de respuestas sobre si les dan comida gratis en la vivienda para mujeres\n",
    "conteo_comida_gratis_vivienda_mujeres = mujeres['PP07F2'].value_counts()\n",
    "\n",
    "# Mostrar el resultado para mujeres\n",
    "print(\"Respuestas de mujeres sobre si les dan comida gratis en la vivienda:\")\n",
    "print(conteo_comida_gratis_vivienda_mujeres)"
   ]
  },
  {
   "cell_type": "code",
   "execution_count": 43,
   "metadata": {},
   "outputs": [
    {
     "name": "stdout",
     "output_type": "stream",
     "text": [
      "Respuestas de hombres sobre si les dan comida gratis en la vivienda:\n",
      "PP07F2\n",
      "2.0    12979\n",
      "0.0     5411\n",
      "1.0      256\n",
      "9.0        7\n",
      "Name: count, dtype: int64\n"
     ]
    }
   ],
   "source": [
    "# Filtrar por sexo para hombres (Sexo = 1)\n",
    "hombres = personas[personas['CH04'] == 1]\n",
    "\n",
    "# Obtener el conteo de respuestas sobre si les dan comida gratis en la vivienda para hombres\n",
    "conteo_comida_gratis_vivienda_hombres = hombres['PP07F2'].value_counts()\n",
    "\n",
    "# Mostrar el resultado para hombres\n",
    "print(\"Respuestas de hombres sobre si les dan comida gratis en la vivienda:\")\n",
    "print(conteo_comida_gratis_vivienda_hombres)"
   ]
  },
  {
   "cell_type": "markdown",
   "metadata": {},
   "source": [
    "VACACIÓNES PAGAS \n",
    "1 = Sí\n",
    "2 = No\n"
   ]
  },
  {
   "cell_type": "code",
   "execution_count": 44,
   "metadata": {},
   "outputs": [
    {
     "name": "stdout",
     "output_type": "stream",
     "text": [
      "Respuestas de mujeres sobre si reciben vacaciones pagas:\n",
      "PP07G1\n",
      "1.0    6953\n",
      "2.0    4138\n",
      "0.0    3455\n",
      "9.0       3\n",
      "Name: count, dtype: int64\n"
     ]
    }
   ],
   "source": [
    "# Filtrar por sexo para mujeres (Sexo = 2)\n",
    "mujeres = personas[personas['CH04'] == 2]\n",
    "\n",
    "# Obtener el conteo de respuestas sobre si reciben vacaciones pagas para mujeres\n",
    "conteo_vacaciones_pagas_mujeres = mujeres['PP07G1'].value_counts()\n",
    "\n",
    "# Mostrar el resultado para mujeres\n",
    "print(\"Respuestas de mujeres sobre si reciben vacaciones pagas:\")\n",
    "print(conteo_vacaciones_pagas_mujeres)"
   ]
  },
  {
   "cell_type": "code",
   "execution_count": 45,
   "metadata": {},
   "outputs": [
    {
     "name": "stdout",
     "output_type": "stream",
     "text": [
      "Respuestas de hombres sobre si reciben vacaciones pagas:\n",
      "PP07G1\n",
      "1.0    8490\n",
      "0.0    5411\n",
      "2.0    4745\n",
      "9.0       7\n",
      "Name: count, dtype: int64\n"
     ]
    }
   ],
   "source": [
    "# Filtrar por sexo para hombres (Sexo = 1)\n",
    "hombres = personas[personas['CH04'] == 1]\n",
    "\n",
    "# Obtener el conteo de respuestas sobre si reciben vacaciones pagas para hombres\n",
    "conteo_vacaciones_pagas_hombres = hombres['PP07G1'].value_counts()\n",
    "\n",
    "# Mostrar el resultado para hombres\n",
    "print(\"Respuestas de hombres sobre si reciben vacaciones pagas:\")\n",
    "print(conteo_vacaciones_pagas_hombres)"
   ]
  },
  {
   "cell_type": "markdown",
   "metadata": {},
   "source": [
    "LES PAGAN AGUINALDO?\n",
    "1 = Sí\n",
    "2 = No\n"
   ]
  },
  {
   "cell_type": "code",
   "execution_count": 46,
   "metadata": {},
   "outputs": [
    {
     "name": "stdout",
     "output_type": "stream",
     "text": [
      "Respuestas de mujeres sobre si reciben aguinaldo:\n",
      "PP07G2\n",
      "1.0    6958\n",
      "2.0    4133\n",
      "0.0    3455\n",
      "9.0       3\n",
      "Name: count, dtype: int64\n"
     ]
    }
   ],
   "source": [
    "# Filtrar por sexo para mujeres (Sexo = 2)\n",
    "mujeres = personas[personas['CH04'] == 2]\n",
    "\n",
    "# Obtener el conteo de respuestas sobre si reciben aguinaldo para mujeres\n",
    "conteo_aguinaldo_mujeres = mujeres['PP07G2'].value_counts()\n",
    "\n",
    "# Mostrar el resultado para mujeres\n",
    "print(\"Respuestas de mujeres sobre si reciben aguinaldo:\")\n",
    "print(conteo_aguinaldo_mujeres)"
   ]
  },
  {
   "cell_type": "code",
   "execution_count": 47,
   "metadata": {},
   "outputs": [
    {
     "name": "stdout",
     "output_type": "stream",
     "text": [
      "Respuestas de hombres sobre si reciben aguinaldo:\n",
      "PP07G2\n",
      "1.0    8481\n",
      "0.0    5411\n",
      "2.0    4754\n",
      "9.0       7\n",
      "Name: count, dtype: int64\n"
     ]
    }
   ],
   "source": [
    "# Filtrar por sexo para hombres (Sexo = 1)\n",
    "hombres = personas[personas['CH04'] == 1]\n",
    "\n",
    "# Obtener el conteo de respuestas sobre si reciben aguinaldo para hombres\n",
    "conteo_aguinaldo_hombres = hombres['PP07G2'].value_counts()\n",
    "\n",
    "# Mostrar el resultado para hombres\n",
    "print(\"Respuestas de hombres sobre si reciben aguinaldo:\")\n",
    "print(conteo_aguinaldo_hombres)"
   ]
  },
  {
   "cell_type": "markdown",
   "metadata": {},
   "source": [
    "¿Días pagos por enfermedad?\n",
    "1 = Sí\n",
    "2 = No\n",
    "\n"
   ]
  },
  {
   "cell_type": "code",
   "execution_count": 48,
   "metadata": {},
   "outputs": [
    {
     "name": "stdout",
     "output_type": "stream",
     "text": [
      "Respuestas de mujeres sobre si reciben días pagos por enfermedad:\n",
      "PP07G3\n",
      "1.0    6944\n",
      "2.0    4147\n",
      "0.0    3455\n",
      "9.0       3\n",
      "Name: count, dtype: int64\n"
     ]
    }
   ],
   "source": [
    "# Filtrar por sexo para mujeres (Sexo = 2)\n",
    "mujeres = personas[personas['CH04'] == 2]\n",
    "\n",
    "# Obtener el conteo de respuestas sobre si reciben días pagos por enfermedad para mujeres\n",
    "conteo_dias_enfermedad_mujeres = mujeres['PP07G3'].value_counts()\n",
    "\n",
    "# Mostrar el resultado para mujeres\n",
    "print(\"Respuestas de mujeres sobre si reciben días pagos por enfermedad:\")\n",
    "print(conteo_dias_enfermedad_mujeres)"
   ]
  },
  {
   "cell_type": "code",
   "execution_count": 49,
   "metadata": {},
   "outputs": [
    {
     "name": "stdout",
     "output_type": "stream",
     "text": [
      "Respuestas de hombres sobre si reciben días pagos por enfermedad:\n",
      "PP07G3\n",
      "1.0    8481\n",
      "0.0    5411\n",
      "2.0    4754\n",
      "9.0       7\n",
      "Name: count, dtype: int64\n"
     ]
    }
   ],
   "source": [
    "# Filtrar por sexo para hombres (Sexo = 1)\n",
    "hombres = personas[personas['CH04'] == 1]\n",
    "\n",
    "# Obtener el conteo de respuestas sobre si reciben días pagos por enfermedad para hombres\n",
    "conteo_dias_enfermedad_hombres = hombres['PP07G3'].value_counts()\n",
    "\n",
    "# Mostrar el resultado para hombres\n",
    "print(\"Respuestas de hombres sobre si reciben días pagos por enfermedad:\")\n",
    "print(conteo_dias_enfermedad_hombres)"
   ]
  },
  {
   "cell_type": "markdown",
   "metadata": {},
   "source": [
    "¿El turno habitual de trabajo es...\n",
    "1 = ...de día? (mañana/tarde)\n",
    "2 = ...de noche?\n",
    "3 = ...de otro tipo? (rotativo, día y noche, guardias con franco)\n",
    "\n"
   ]
  },
  {
   "cell_type": "code",
   "execution_count": 50,
   "metadata": {},
   "outputs": [
    {
     "name": "stdout",
     "output_type": "stream",
     "text": [
      "Respuestas de mujeres sobre el turno habitual de trabajo:\n",
      "PP07J\n",
      "1.0    10095\n",
      "0.0     3455\n",
      "3.0      741\n",
      "2.0      253\n",
      "9.0        5\n",
      "Name: count, dtype: int64\n"
     ]
    }
   ],
   "source": [
    "# Filtrar por sexo para mujeres (Sexo = 2)\n",
    "mujeres = personas[personas['CH04'] == 2]\n",
    "\n",
    "# Obtener el conteo de respuestas sobre el turno habitual de trabajo para mujeres\n",
    "conteo_turno_trabajo_mujeres = mujeres['PP07J'].value_counts()\n",
    "\n",
    "# Mostrar el resultado para mujeres\n",
    "print(\"Respuestas de mujeres sobre el turno habitual de trabajo:\")\n",
    "print(conteo_turno_trabajo_mujeres)"
   ]
  },
  {
   "cell_type": "code",
   "execution_count": 51,
   "metadata": {},
   "outputs": [
    {
     "name": "stdout",
     "output_type": "stream",
     "text": [
      "Respuestas de hombres sobre el turno habitual de trabajo:\n",
      "PP07J\n",
      "1.0    11061\n",
      "0.0     5411\n",
      "3.0     1835\n",
      "2.0      339\n",
      "9.0        7\n",
      "Name: count, dtype: int64\n"
     ]
    }
   ],
   "source": [
    "# Filtrar por sexo para hombres (Sexo = 1)\n",
    "hombres = personas[personas['CH04'] == 1]\n",
    "\n",
    "# Obtener el conteo de respuestas sobre el turno habitual de trabajo para hombres\n",
    "conteo_turno_trabajo_hombres = hombres['PP07J'].value_counts()\n",
    "\n",
    "# Mostrar el resultado para hombres\n",
    "print(\"Respuestas de hombres sobre el turno habitual de trabajo:\")\n",
    "print(conteo_turno_trabajo_hombres)"
   ]
  },
  {
   "cell_type": "markdown",
   "metadata": {},
   "source": [
    "¿Cuando cobra...\n",
    "1 = ...le dan recibo con sello/membrete/firma del empleador?\n",
    "2 = ...le dan un papel/recibo sin nada?\n",
    "3 = ...entrega una factura?\n",
    "4 = ...no le dan ni entrega nada?\n",
    "5 = no cobra, es trabajador sin pago/ad honorem\n"
   ]
  },
  {
   "cell_type": "code",
   "execution_count": 52,
   "metadata": {},
   "outputs": [
    {
     "name": "stdout",
     "output_type": "stream",
     "text": [
      "Respuestas de mujeres sobre la forma de pago:\n",
      "PP07K\n",
      "1.0    6702\n",
      "4.0    3614\n",
      "0.0    3455\n",
      "3.0     382\n",
      "2.0     365\n",
      "5.0      28\n",
      "9.0       3\n",
      "Name: count, dtype: int64\n"
     ]
    }
   ],
   "source": [
    "# Filtrar por sexo para mujeres (Sexo = 2)\n",
    "mujeres = personas[personas['CH04'] == 2]\n",
    "\n",
    "# Obtener el conteo de respuestas sobre la forma de pago para mujeres\n",
    "conteo_forma_pago_mujeres = mujeres['PP07K'].value_counts()\n",
    "\n",
    "# Mostrar el resultado para mujeres\n",
    "print(\"Respuestas de mujeres sobre la forma de pago:\")\n",
    "print(conteo_forma_pago_mujeres)"
   ]
  },
  {
   "cell_type": "code",
   "execution_count": 53,
   "metadata": {},
   "outputs": [
    {
     "name": "stdout",
     "output_type": "stream",
     "text": [
      "Respuestas de hombres sobre la forma de pago:\n",
      "PP07K\n",
      "1.0    8380\n",
      "0.0    5411\n",
      "4.0    4149\n",
      "3.0     394\n",
      "2.0     294\n",
      "5.0      18\n",
      "9.0       7\n",
      "Name: count, dtype: int64\n"
     ]
    }
   ],
   "source": [
    "# Filtrar por sexo para hombres (Sexo = 1)\n",
    "hombres = personas[personas['CH04'] == 1]\n",
    "\n",
    "# Obtener el conteo de respuestas sobre la forma de pago para hombres\n",
    "conteo_forma_pago_hombres = hombres['PP07K'].value_counts()\n",
    "\n",
    "# Mostrar el resultado para hombres\n",
    "print(\"Respuestas de hombres sobre la forma de pago:\")\n",
    "print(conteo_forma_pago_hombres)"
   ]
  },
  {
   "cell_type": "markdown",
   "metadata": {},
   "source": [
    "INGRESO DE LA OPCUPACIÓN PRINCIPAL DE LOS ASALARIADOS \n",
    "¿Cuánto cobró por ese mes por estos conceptos?\n",
    "Monto total de sueldos/jornales, salario familiar, horas extras, otras bonificaciones habituales y tickets, vales o similares\n"
   ]
  },
  {
   "cell_type": "code",
   "execution_count": 54,
   "metadata": {},
   "outputs": [
    {
     "name": "stdout",
     "output_type": "stream",
     "text": [
      "Respuestas de mujeres sobre el monto cobrado por esos conceptos:\n",
      "PP08D1\n",
      " 0.0         3805\n",
      "-9.0         1224\n",
      " 60000.0      516\n",
      " 80000.0      513\n",
      " 40000.0      467\n",
      "             ... \n",
      " 600000.0       1\n",
      " 45500.0        1\n",
      " 33200.0        1\n",
      " 43500.0        1\n",
      " 2850.0         1\n",
      "Name: count, Length: 385, dtype: int64\n"
     ]
    }
   ],
   "source": [
    "# Filtrar por sexo para mujeres (Sexo = 2)\n",
    "mujeres = personas[personas['CH04'] == 2]\n",
    "\n",
    "# Obtener el conteo de respuestas sobre el monto cobrado por esos conceptos para mujeres\n",
    "conteo_monto_mujeres = mujeres['PP08D1'].value_counts()\n",
    "\n",
    "# Mostrar el resultado para mujeres\n",
    "print(\"Respuestas de mujeres sobre el monto cobrado por esos conceptos:\")\n",
    "print(conteo_monto_mujeres)"
   ]
  },
  {
   "cell_type": "code",
   "execution_count": 55,
   "metadata": {},
   "outputs": [
    {
     "name": "stdout",
     "output_type": "stream",
     "text": [
      "Respuestas de hombres sobre el monto cobrado por esos conceptos:\n",
      "PP08D1\n",
      " 0.0         5953\n",
      "-9.0         1668\n",
      " 80000.0      752\n",
      " 60000.0      747\n",
      " 40000.0      648\n",
      "             ... \n",
      " 58500.0        1\n",
      " 68200.0        1\n",
      " 105500.0       1\n",
      " 85500.0        1\n",
      " 26500.0        1\n",
      "Name: count, Length: 327, dtype: int64\n"
     ]
    }
   ],
   "source": [
    "# Filtrar por sexo para hombres (Sexo = 1)\n",
    "hombres = personas[personas['CH04'] == 1]\n",
    "\n",
    "# Obtener el conteo de respuestas sobre el monto cobrado por esos conceptos para hombres\n",
    "conteo_monto_hombres = hombres['PP08D1'].value_counts()\n",
    "\n",
    "# Mostrar el resultado para hombres\n",
    "print(\"Respuestas de hombres sobre el monto cobrado por esos conceptos:\")\n",
    "print(conteo_monto_hombres)"
   ]
  },
  {
   "cell_type": "markdown",
   "metadata": {},
   "source": [
    "Conteo de respuestas sobre el monto percibido en tickets para mujeres y hombres."
   ]
  },
  {
   "cell_type": "code",
   "execution_count": 56,
   "metadata": {},
   "outputs": [
    {
     "name": "stdout",
     "output_type": "stream",
     "text": [
      "Respuestas de mujeres sobre el monto percibido en tickets:\n",
      "PP08D4\n",
      "0.0        14546\n",
      "20000.0        3\n",
      "Name: count, dtype: int64\n"
     ]
    }
   ],
   "source": [
    "# Filtrar por sexo para mujeres (Sexo = 2)\n",
    "mujeres = personas[personas['CH04'] == 2]\n",
    "\n",
    "# Obtener el conteo de respuestas sobre el monto percibido en tickets para mujeres\n",
    "conteo_tickets_mujeres = mujeres['PP08D4'].value_counts()\n",
    "\n",
    "# Mostrar el resultado para mujeres\n",
    "print(\"Respuestas de mujeres sobre el monto percibido en tickets:\")\n",
    "print(conteo_tickets_mujeres)"
   ]
  },
  {
   "cell_type": "code",
   "execution_count": 57,
   "metadata": {},
   "outputs": [
    {
     "name": "stdout",
     "output_type": "stream",
     "text": [
      "Respuestas de hombres sobre el monto percibido en tickets:\n",
      "PP08D4\n",
      "0.0        18643\n",
      "20000.0        5\n",
      "30000.0        2\n",
      "25000.0        1\n",
      "10000.0        1\n",
      "5000.0         1\n",
      "Name: count, dtype: int64\n"
     ]
    }
   ],
   "source": [
    "# Filtrar por sexo para hombres (Sexo = 1)\n",
    "hombres = personas[personas['CH04'] == 1]\n",
    "\n",
    "# Obtener el conteo de respuestas sobre el monto percibido en tickets para hombres\n",
    "conteo_tickets_hombres = hombres['PP08D4'].value_counts()\n",
    "\n",
    "# Mostrar el resultado para hombres\n",
    "print(\"Respuestas de hombres sobre el monto percibido en tickets:\")\n",
    "print(conteo_tickets_hombres)"
   ]
  },
  {
   "cell_type": "markdown",
   "metadata": {},
   "source": [
    "¿Cuánto cobró por ese mes de ... (mes) …\n",
    "monto en pesos cobrado por comisión por venta/producción?\n"
   ]
  },
  {
   "cell_type": "code",
   "execution_count": 58,
   "metadata": {},
   "outputs": [
    {
     "name": "stdout",
     "output_type": "stream",
     "text": [
      "Respuestas de mujeres sobre el monto percibido por comisión por venta/producción:\n",
      "PP08F1\n",
      " 0.0         14357\n",
      "-9.0            29\n",
      " 10000.0        19\n",
      " 30000.0        17\n",
      " 40000.0        11\n",
      " 4000.0         10\n",
      " 20000.0        10\n",
      " 25000.0         9\n",
      " 50000.0         6\n",
      " 5000.0          6\n",
      " 15000.0         5\n",
      " 3000.0          5\n",
      " 6000.0          4\n",
      " 7000.0          4\n",
      " 60000.0         4\n",
      " 2000.0          4\n",
      " 12000.0         4\n",
      " 1000.0          3\n",
      " 18000.0         3\n",
      " 80000.0         3\n",
      " 55000.0         3\n",
      " 45000.0         2\n",
      " 70000.0         2\n",
      " 24000.0         2\n",
      " 9000.0          2\n",
      " 100000.0        2\n",
      " 6500.0          1\n",
      " 400.0           1\n",
      " 13000.0         1\n",
      " 16000.0         1\n",
      " 38000.0         1\n",
      " 32000.0         1\n",
      " 68000.0         1\n",
      " 23000.0         1\n",
      " 1200.0          1\n",
      " 85000.0         1\n",
      " 82000.0         1\n",
      " 8000.0          1\n",
      " 29000.0         1\n",
      " 130000.0        1\n",
      " 42000.0         1\n",
      " 2500.0          1\n",
      " 28800.0         1\n",
      " 90000.0         1\n",
      " 6960.0          1\n",
      " 35000.0         1\n",
      " 13800.0         1\n",
      " 65000.0         1\n",
      " 72000.0         1\n",
      "Name: count, dtype: int64\n"
     ]
    }
   ],
   "source": [
    "# Filtrar por sexo para mujeres (Sexo = 2)\n",
    "mujeres = personas[personas['CH04'] == 2]\n",
    "\n",
    "# Obtener el conteo de respuestas sobre el monto percibido por comisión por venta/producción para mujeres\n",
    "conteo_comision_mujeres = mujeres['PP08F1'].value_counts()\n",
    "\n",
    "# Mostrar el resultado para mujeres\n",
    "print(\"Respuestas de mujeres sobre el monto percibido por comisión por venta/producción:\")\n",
    "print(conteo_comision_mujeres)"
   ]
  },
  {
   "cell_type": "code",
   "execution_count": 59,
   "metadata": {},
   "outputs": [
    {
     "name": "stdout",
     "output_type": "stream",
     "text": [
      "Respuestas de hombres sobre el monto percibido por comisión por venta/producción:\n",
      "PP08F1\n",
      " 0.0        18278\n",
      "-9.0           59\n",
      " 40000.0       34\n",
      " 20000.0       32\n",
      " 50000.0       30\n",
      "            ...  \n",
      " 54000.0        1\n",
      " 84000.0        1\n",
      " 9600.0         1\n",
      " 52000.0        1\n",
      " 57000.0        1\n",
      "Name: count, Length: 62, dtype: int64\n"
     ]
    }
   ],
   "source": [
    "# Filtrar por sexo para hombres (Sexo = 1)\n",
    "hombres = personas[personas['CH04'] == 1]\n",
    "\n",
    "# Obtener el conteo de respuestas sobre el monto percibido por comisión por venta/producción para hombres\n",
    "conteo_comision_hombres = hombres['PP08F1'].value_counts()\n",
    "\n",
    "# Mostrar el resultado para hombres\n",
    "print(\"Respuestas de hombres sobre el monto percibido por comisión por venta/producción:\")\n",
    "print(conteo_comision_hombres)"
   ]
  },
  {
   "cell_type": "markdown",
   "metadata": {},
   "source": [
    "¿Cuánto cobró por ese mes de ... (mes) …\n",
    "monto aguinaldo?\n",
    "\n"
   ]
  },
  {
   "cell_type": "code",
   "execution_count": 60,
   "metadata": {},
   "outputs": [
    {
     "name": "stdout",
     "output_type": "stream",
     "text": [
      "Respuestas de mujeres sobre el monto percibido como aguinaldo:\n",
      "PP08J1\n",
      " 0.0         12368\n",
      "-9.0           263\n",
      " 40000.0       170\n",
      " 30000.0       149\n",
      " 50000.0       128\n",
      "             ...  \n",
      " 40500.0         1\n",
      " 18500.0         1\n",
      " 87000.0         1\n",
      " 198000.0        1\n",
      " 52000.0         1\n",
      "Name: count, Length: 139, dtype: int64\n"
     ]
    }
   ],
   "source": [
    "# Filtrar por sexo para mujeres (Sexo = 2)\n",
    "mujeres = personas[personas['CH04'] == 2]\n",
    "\n",
    "# Obtener el conteo de respuestas sobre el monto percibido como aguinaldo para mujeres\n",
    "conteo_aguinaldo_mujeres = mujeres['PP08J1'].value_counts()\n",
    "\n",
    "# Mostrar el resultado para mujeres\n",
    "print(\"Respuestas de mujeres sobre el monto percibido como aguinaldo:\")\n",
    "print(conteo_aguinaldo_mujeres)"
   ]
  },
  {
   "cell_type": "code",
   "execution_count": 61,
   "metadata": {},
   "outputs": [
    {
     "name": "stdout",
     "output_type": "stream",
     "text": [
      "Respuestas de hombres sobre el monto percibido como aguinaldo:\n",
      "PP08J1\n",
      " 0.0         16115\n",
      "-9.0           316\n",
      " 40000.0       226\n",
      " 50000.0       202\n",
      " 30000.0       167\n",
      "             ...  \n",
      " 300000.0        1\n",
      " 91500.0         1\n",
      " 63000.0         1\n",
      " 3500.0          1\n",
      " 13250.0         1\n",
      "Name: count, Length: 156, dtype: int64\n"
     ]
    }
   ],
   "source": [
    "# Filtrar por sexo para hombres (Sexo = 1)\n",
    "hombres = personas[personas['CH04'] == 1]\n",
    "\n",
    "# Obtener el conteo de respuestas sobre el monto percibido como aguinaldo para hombres\n",
    "conteo_aguinaldo_hombres = hombres['PP08J1'].value_counts()\n",
    "\n",
    "# Mostrar el resultado para hombres\n",
    "print(\"Respuestas de hombres sobre el monto percibido como aguinaldo:\")\n",
    "print(conteo_aguinaldo_hombres)"
   ]
  },
  {
   "cell_type": "markdown",
   "metadata": {},
   "source": [
    "INGRESO DE LA OCUPACIÓN PRINCIPAL "
   ]
  },
  {
   "cell_type": "code",
   "execution_count": 62,
   "metadata": {},
   "outputs": [
    {
     "name": "stdout",
     "output_type": "stream",
     "text": [
      "Monto de ingreso de la ocupación principal para mujeres:\n",
      "0            0\n",
      "2            0\n",
      "3            0\n",
      "4            0\n",
      "5            0\n",
      "         ...  \n",
      "77625    30000\n",
      "77628    40000\n",
      "77629    60000\n",
      "77634    60000\n",
      "77638    20000\n",
      "Name: P21, Length: 40465, dtype: int64\n",
      "Monto de ingreso de la ocupación principal para hombres:\n",
      "1             0\n",
      "7             0\n",
      "8             0\n",
      "11            0\n",
      "12            0\n",
      "          ...  \n",
      "77636     25000\n",
      "77637     28000\n",
      "77639     30000\n",
      "77640     30000\n",
      "77641    140000\n",
      "Name: P21, Length: 37177, dtype: int64\n"
     ]
    }
   ],
   "source": [
    "# Filtrar por sexo para mujeres (Sexo = 2)\n",
    "mujeres = personas[personas['CH04'] == 2]\n",
    "\n",
    "# Filtrar por sexo para hombres (Sexo = 1)\n",
    "hombres = personas[personas['CH04'] == 1]\n",
    "\n",
    "# Obtener el monto de ingreso de la ocupación principal para mujeres y hombres\n",
    "monto_ingreso_mujeres = mujeres['P21']\n",
    "monto_ingreso_hombres = hombres['P21']\n",
    "\n",
    "# Mostrar el monto de ingreso de la ocupación principal para mujeres\n",
    "print(\"Monto de ingreso de la ocupación principal para mujeres:\")\n",
    "print(monto_ingreso_mujeres)\n",
    "\n",
    "# Mostrar el monto de ingreso de la ocupación principal para hombres\n",
    "print(\"Monto de ingreso de la ocupación principal para hombres:\")\n",
    "print(monto_ingreso_hombres)"
   ]
  },
  {
   "cell_type": "markdown",
   "metadata": {},
   "source": [
    "Monto de ingreso de otras ocupaciones (incluye ocupación secundaria, ocupación previa a la semana de referencia, deudas/retroactivos por ocupaciones anteriores al mes de referencia, etc.)\n"
   ]
  },
  {
   "cell_type": "code",
   "execution_count": 63,
   "metadata": {},
   "outputs": [
    {
     "name": "stdout",
     "output_type": "stream",
     "text": [
      "Monto de ingreso de otras ocupaciones para mujeres:\n",
      "0        0\n",
      "2        0\n",
      "3        0\n",
      "4        0\n",
      "5        0\n",
      "        ..\n",
      "77625    0\n",
      "77628    0\n",
      "77629    0\n",
      "77634    0\n",
      "77638    0\n",
      "Name: TOT_P12, Length: 40465, dtype: int64\n",
      "Monto de ingreso de otras ocupaciones para hombres:\n",
      "1        0\n",
      "7        0\n",
      "8        0\n",
      "11       0\n",
      "12       0\n",
      "        ..\n",
      "77636    0\n",
      "77637    0\n",
      "77639    0\n",
      "77640    0\n",
      "77641    0\n",
      "Name: TOT_P12, Length: 37177, dtype: int64\n"
     ]
    }
   ],
   "source": [
    "# Filtrar por sexo para mujeres (Sexo = 2)\n",
    "mujeres = personas[personas['CH04'] == 2]\n",
    "\n",
    "# Filtrar por sexo para hombres (Sexo = 1)\n",
    "hombres = personas[personas['CH04'] == 1]\n",
    "\n",
    "# Obtener el monto de ingreso de otras ocupaciones para mujeres y hombres\n",
    "monto_ingreso_otras_ocupaciones_mujeres = mujeres['TOT_P12']\n",
    "monto_ingreso_otras_ocupaciones_hombres = hombres['TOT_P12']\n",
    "\n",
    "# Mostrar el monto de ingreso de otras ocupaciones para mujeres\n",
    "print(\"Monto de ingreso de otras ocupaciones para mujeres:\")\n",
    "print(monto_ingreso_otras_ocupaciones_mujeres)\n",
    "\n",
    "# Mostrar el monto de ingreso de otras ocupaciones para hombres\n",
    "print(\"Monto de ingreso de otras ocupaciones para hombres:\")\n",
    "print(monto_ingreso_otras_ocupaciones_hombres)"
   ]
  },
  {
   "cell_type": "markdown",
   "metadata": {},
   "source": [
    "INGRESO TOTAL INDIVIDUAL"
   ]
  },
  {
   "cell_type": "code",
   "execution_count": 64,
   "metadata": {},
   "outputs": [
    {
     "name": "stdout",
     "output_type": "stream",
     "text": [
      "Monto de ingreso total individual para mujeres:\n",
      "0        50000.0\n",
      "2            0.0\n",
      "3        32000.0\n",
      "4           -9.0\n",
      "5            0.0\n",
      "          ...   \n",
      "77625    30000.0\n",
      "77628    88000.0\n",
      "77629    60000.0\n",
      "77634    73000.0\n",
      "77638    38000.0\n",
      "Name: P47T, Length: 40465, dtype: float64\n",
      "Monto de ingreso total individual para hombres:\n",
      "1             0.0\n",
      "7         37000.0\n",
      "8             0.0\n",
      "11           -9.0\n",
      "12        70000.0\n",
      "           ...   \n",
      "77636     25000.0\n",
      "77637     28000.0\n",
      "77639     30000.0\n",
      "77640     30000.0\n",
      "77641    210000.0\n",
      "Name: P47T, Length: 37177, dtype: float64\n"
     ]
    }
   ],
   "source": [
    "# Filtrar por sexo para mujeres (Sexo = 2)\n",
    "mujeres = personas[personas['CH04'] == 2]\n",
    "\n",
    "# Filtrar por sexo para hombres (Sexo = 1)\n",
    "hombres = personas[personas['CH04'] == 1]\n",
    "\n",
    "# Obtener el monto de ingreso total individual para mujeres y hombres\n",
    "monto_ingreso_total_mujeres = mujeres['P47T']\n",
    "monto_ingreso_total_hombres = hombres['P47T']\n",
    "\n",
    "# Mostrar el monto de ingreso total individual para mujeres\n",
    "print(\"Monto de ingreso total individual para mujeres:\")\n",
    "print(monto_ingreso_total_mujeres)\n",
    "\n",
    "# Mostrar el monto de ingreso total individual para hombres\n",
    "print(\"Monto de ingreso total individual para hombres:\")\n",
    "print(monto_ingreso_total_hombres)"
   ]
  },
  {
   "cell_type": "markdown",
   "metadata": {},
   "source": [
    "INGRESOS NO LABORALES \n",
    "Ingreso por jubilación o pensión "
   ]
  },
  {
   "cell_type": "code",
   "execution_count": 65,
   "metadata": {},
   "outputs": [
    {
     "name": "stdout",
     "output_type": "stream",
     "text": [
      "Monto del ingreso por jubilación o pensión para mujeres:\n",
      "0        50000\n",
      "2            0\n",
      "3        32000\n",
      "4        65000\n",
      "5            0\n",
      "         ...  \n",
      "77625        0\n",
      "77628        0\n",
      "77629        0\n",
      "77634        0\n",
      "77638    13500\n",
      "Name: V2_M, Length: 40465, dtype: int64\n",
      "Monto del ingreso por jubilación o pensión para hombres:\n",
      "1            0\n",
      "7        37000\n",
      "8            0\n",
      "11           0\n",
      "12       70000\n",
      "         ...  \n",
      "77636        0\n",
      "77637        0\n",
      "77639        0\n",
      "77640        0\n",
      "77641        0\n",
      "Name: V2_M, Length: 37177, dtype: int64\n"
     ]
    }
   ],
   "source": [
    "# Filtrar por sexo para mujeres (Sexo = 2)\n",
    "mujeres = personas[personas['CH04'] == 2]\n",
    "\n",
    "# Filtrar por sexo para hombres (Sexo = 1)\n",
    "hombres = personas[personas['CH04'] == 1]\n",
    "\n",
    "# Obtener el monto del ingreso por jubilación o pensión para mujeres y hombres\n",
    "monto_ingreso_jubilacion_pension_mujeres = mujeres['V2_M']\n",
    "monto_ingreso_jubilacion_pension_hombres = hombres['V2_M']\n",
    "\n",
    "# Mostrar el monto del ingreso por jubilación o pensión para mujeres\n",
    "print(\"Monto del ingreso por jubilación o pensión para mujeres:\")\n",
    "print(monto_ingreso_jubilacion_pension_mujeres)\n",
    "\n",
    "# Mostrar el monto del ingreso por jubilación o pensión para hombres\n",
    "print(\"Monto del ingreso por jubilación o pensión para hombres:\")\n",
    "print(monto_ingreso_jubilacion_pension_hombres)"
   ]
  },
  {
   "cell_type": "markdown",
   "metadata": {},
   "source": [
    "Monto del ingreso por indemnización por despido\n"
   ]
  },
  {
   "cell_type": "code",
   "execution_count": 66,
   "metadata": {},
   "outputs": [
    {
     "name": "stdout",
     "output_type": "stream",
     "text": [
      "Monto del ingreso por indemnización por despido para mujeres:\n",
      "0        0\n",
      "2        0\n",
      "3        0\n",
      "4        0\n",
      "5        0\n",
      "        ..\n",
      "77625    0\n",
      "77628    0\n",
      "77629    0\n",
      "77634    0\n",
      "77638    0\n",
      "Name: V3_M, Length: 40465, dtype: int64\n",
      "Monto del ingreso por indemnización por despido para hombres:\n",
      "1        0\n",
      "7        0\n",
      "8        0\n",
      "11       0\n",
      "12       0\n",
      "        ..\n",
      "77636    0\n",
      "77637    0\n",
      "77639    0\n",
      "77640    0\n",
      "77641    0\n",
      "Name: V3_M, Length: 37177, dtype: int64\n"
     ]
    }
   ],
   "source": [
    "# Filtrar por sexo para mujeres (Sexo = 2)\n",
    "mujeres = personas[personas['CH04'] == 2]\n",
    "\n",
    "# Filtrar por sexo para hombres (Sexo = 1)\n",
    "hombres = personas[personas['CH04'] == 1]\n",
    "\n",
    "# Obtener el monto del ingreso por indemnización por despido para mujeres y hombres\n",
    "monto_ingreso_indemnizacion_despido_mujeres = mujeres['V3_M']\n",
    "monto_ingreso_indemnizacion_despido_hombres = hombres['V3_M']\n",
    "\n",
    "# Mostrar el monto del ingreso por indemnización por despido para mujeres\n",
    "print(\"Monto del ingreso por indemnización por despido para mujeres:\")\n",
    "print(monto_ingreso_indemnizacion_despido_mujeres)\n",
    "\n",
    "# Mostrar el monto del ingreso por indemnización por despido para hombres\n",
    "print(\"Monto del ingreso por indemnización por despido para hombres:\")\n",
    "print(monto_ingreso_indemnizacion_despido_hombres)"
   ]
  },
  {
   "cell_type": "markdown",
   "metadata": {},
   "source": [
    "Monto del ingreso por subsidio o ayuda social (en dinero) del gobierno, iglesias, etc.\n"
   ]
  },
  {
   "cell_type": "code",
   "execution_count": 67,
   "metadata": {},
   "outputs": [
    {
     "name": "stdout",
     "output_type": "stream",
     "text": [
      "Monto del ingreso por subsidio o ayuda social para mujeres:\n",
      "0            0\n",
      "2            0\n",
      "3            0\n",
      "4            0\n",
      "5            0\n",
      "         ...  \n",
      "77625        0\n",
      "77628    48000\n",
      "77629        0\n",
      "77634    13000\n",
      "77638     4500\n",
      "Name: V5_M, Length: 40465, dtype: int64\n",
      "Monto del ingreso por subsidio o ayuda social para hombres:\n",
      "1        0\n",
      "7        0\n",
      "8        0\n",
      "11       0\n",
      "12       0\n",
      "        ..\n",
      "77636    0\n",
      "77637    0\n",
      "77639    0\n",
      "77640    0\n",
      "77641    0\n",
      "Name: V5_M, Length: 37177, dtype: int64\n"
     ]
    }
   ],
   "source": [
    "# Filtrar por sexo para mujeres (Sexo = 2)\n",
    "mujeres = personas[personas['CH04'] == 2]\n",
    "\n",
    "# Filtrar por sexo para hombres (Sexo = 1)\n",
    "hombres = personas[personas['CH04'] == 1]\n",
    "\n",
    "# Obtener el monto del ingreso por subsidio o ayuda social para mujeres y hombres\n",
    "monto_ingreso_subsidio_mujeres = mujeres['V5_M']\n",
    "monto_ingreso_subsidio_hombres = hombres['V5_M']\n",
    "\n",
    "# Mostrar el monto del ingreso por subsidio o ayuda social para mujeres\n",
    "print(\"Monto del ingreso por subsidio o ayuda social para mujeres:\")\n",
    "print(monto_ingreso_subsidio_mujeres)\n",
    "\n",
    "# Mostrar el monto del ingreso por subsidio o ayuda social para hombres\n",
    "print(\"Monto del ingreso por subsidio o ayuda social para hombres:\")\n",
    "print(monto_ingreso_subsidio_hombres)"
   ]
  },
  {
   "cell_type": "markdown",
   "metadata": {},
   "source": [
    "Monto del ingreso por alquiler (vivienda, terreno, oficina, etc.) de su propiedad\n"
   ]
  },
  {
   "cell_type": "code",
   "execution_count": 68,
   "metadata": {},
   "outputs": [
    {
     "name": "stdout",
     "output_type": "stream",
     "text": [
      "Monto del ingreso por alquiler para mujeres:\n",
      "0        0\n",
      "2        0\n",
      "3        0\n",
      "4        0\n",
      "5        0\n",
      "        ..\n",
      "77625    0\n",
      "77628    0\n",
      "77629    0\n",
      "77634    0\n",
      "77638    0\n",
      "Name: V8_M, Length: 40465, dtype: int64\n",
      "Monto del ingreso por alquiler para hombres:\n",
      "1        0\n",
      "7        0\n",
      "8        0\n",
      "11       0\n",
      "12       0\n",
      "        ..\n",
      "77636    0\n",
      "77637    0\n",
      "77639    0\n",
      "77640    0\n",
      "77641    0\n",
      "Name: V8_M, Length: 37177, dtype: int64\n"
     ]
    }
   ],
   "source": [
    "# Filtrar por sexo para mujeres (Sexo = 2)\n",
    "mujeres = personas[personas['CH04'] == 2]\n",
    "\n",
    "# Filtrar por sexo para hombres (Sexo = 1)\n",
    "hombres = personas[personas['CH04'] == 1]\n",
    "\n",
    "# Obtener el monto del ingreso por alquiler para mujeres y hombres\n",
    "monto_ingreso_alquiler_mujeres = mujeres['V8_M']\n",
    "monto_ingreso_alquiler_hombres = hombres['V8_M']\n",
    "\n",
    "# Mostrar el monto del ingreso por alquiler para mujeres\n",
    "print(\"Monto del ingreso por alquiler para mujeres:\")\n",
    "print(monto_ingreso_alquiler_mujeres)\n",
    "\n",
    "# Mostrar el monto del ingreso por alquiler para hombres\n",
    "print(\"Monto del ingreso por alquiler para hombres:\")\n",
    "print(monto_ingreso_alquiler_hombres)"
   ]
  },
  {
   "cell_type": "markdown",
   "metadata": {},
   "source": [
    "Monto del ingreso por intereses o rentas por plazos fijos/inversiones\n"
   ]
  },
  {
   "cell_type": "code",
   "execution_count": 69,
   "metadata": {},
   "outputs": [
    {
     "name": "stdout",
     "output_type": "stream",
     "text": [
      "Monto del ingreso por intereses o rentas por plazos fijos/inversiones para mujeres:\n",
      "0        0\n",
      "2        0\n",
      "3        0\n",
      "4        0\n",
      "5        0\n",
      "        ..\n",
      "77625    0\n",
      "77628    0\n",
      "77629    0\n",
      "77634    0\n",
      "77638    0\n",
      "Name: V10_M, Length: 40465, dtype: int64\n",
      "Monto del ingreso por intereses o rentas por plazos fijos/inversiones para hombres:\n",
      "1        0\n",
      "7        0\n",
      "8        0\n",
      "11       0\n",
      "12       0\n",
      "        ..\n",
      "77636    0\n",
      "77637    0\n",
      "77639    0\n",
      "77640    0\n",
      "77641    0\n",
      "Name: V10_M, Length: 37177, dtype: int64\n"
     ]
    }
   ],
   "source": [
    "# Filtrar por sexo para mujeres (Sexo = 2)\n",
    "mujeres = personas[personas['CH04'] == 2]\n",
    "\n",
    "# Filtrar por sexo para hombres (Sexo = 1)\n",
    "hombres = personas[personas['CH04'] == 1]\n",
    "\n",
    "# Obtener el monto del ingreso por intereses o rentas por plazos fijos/inversiones para mujeres y hombres\n",
    "monto_ingreso_intereses_mujeres = mujeres['V10_M']\n",
    "monto_ingreso_intereses_hombres = hombres['V10_M']\n",
    "\n",
    "# Mostrar el monto del ingreso por intereses o rentas por plazos fijos/inversiones para mujeres\n",
    "print(\"Monto del ingreso por intereses o rentas por plazos fijos/inversiones para mujeres:\")\n",
    "print(monto_ingreso_intereses_mujeres)\n",
    "\n",
    "# Mostrar el monto del ingreso por intereses o rentas por plazos fijos/inversiones para hombres\n",
    "print(\"Monto del ingreso por intereses o rentas por plazos fijos/inversiones para hombres:\")\n",
    "print(monto_ingreso_intereses_hombres)"
   ]
  },
  {
   "cell_type": "markdown",
   "metadata": {},
   "source": [
    "Monto del ingreso por cuotas de alimentos o ayuda en dinero de personas que no viven en el hogar\n"
   ]
  },
  {
   "cell_type": "code",
   "execution_count": 70,
   "metadata": {},
   "outputs": [
    {
     "name": "stdout",
     "output_type": "stream",
     "text": [
      "Monto del ingreso por cuotas de alimentos o ayuda en dinero de personas que no viven en el hogar para mujeres:\n",
      "0        0\n",
      "2        0\n",
      "3        0\n",
      "4        0\n",
      "5        0\n",
      "        ..\n",
      "77625    0\n",
      "77628    0\n",
      "77629    0\n",
      "77634    0\n",
      "77638    0\n",
      "Name: V12_M, Length: 40465, dtype: int64\n",
      "Monto del ingreso por cuotas de alimentos o ayuda en dinero de personas que no viven en el hogar para hombres:\n",
      "1        0\n",
      "7        0\n",
      "8        0\n",
      "11       0\n",
      "12       0\n",
      "        ..\n",
      "77636    0\n",
      "77637    0\n",
      "77639    0\n",
      "77640    0\n",
      "77641    0\n",
      "Name: V12_M, Length: 37177, dtype: int64\n"
     ]
    }
   ],
   "source": [
    "# Filtrar por sexo para mujeres (Sexo = 2)\n",
    "mujeres = personas[personas['CH04'] == 2]\n",
    "\n",
    "# Filtrar por sexo para hombres (Sexo = 1)\n",
    "hombres = personas[personas['CH04'] == 1]\n",
    "\n",
    "# Obtener el monto del ingreso por cuotas de alimentos o ayuda en dinero de personas que no viven en el hogar para mujeres y hombres\n",
    "monto_ingreso_alimentos_mujeres = mujeres['V12_M']\n",
    "monto_ingreso_alimentos_hombres = hombres['V12_M']\n",
    "\n",
    "# Mostrar el monto del ingreso por cuotas de alimentos o ayuda en dinero de personas que no viven en el hogar para mujeres\n",
    "print(\"Monto del ingreso por cuotas de alimentos o ayuda en dinero de personas que no viven en el hogar para mujeres:\")\n",
    "print(monto_ingreso_alimentos_mujeres)\n",
    "\n",
    "# Mostrar el monto del ingreso por cuotas de alimentos o ayuda en dinero de personas que no viven en el hogar para hombres\n",
    "print(\"Monto del ingreso por cuotas de alimentos o ayuda en dinero de personas que no viven en el hogar para hombres:\")\n",
    "print(monto_ingreso_alimentos_hombres)"
   ]
  },
  {
   "cell_type": "markdown",
   "metadata": {},
   "source": [
    "Monto del ingreso por trabajo de menores de 10 años\n"
   ]
  },
  {
   "cell_type": "code",
   "execution_count": 71,
   "metadata": {},
   "outputs": [
    {
     "name": "stdout",
     "output_type": "stream",
     "text": [
      "Monto del ingreso por trabajo de menores de 10 años para mujeres:\n",
      "0        0\n",
      "2        0\n",
      "3        0\n",
      "4        0\n",
      "5        0\n",
      "        ..\n",
      "77625    0\n",
      "77628    0\n",
      "77629    0\n",
      "77634    0\n",
      "77638    0\n",
      "Name: V19_AM, Length: 40465, dtype: int64\n",
      "Monto del ingreso por trabajo de menores de 10 años para hombres:\n",
      "1        0\n",
      "7        0\n",
      "8        0\n",
      "11       0\n",
      "12       0\n",
      "        ..\n",
      "77636    0\n",
      "77637    0\n",
      "77639    0\n",
      "77640    0\n",
      "77641    0\n",
      "Name: V19_AM, Length: 37177, dtype: int64\n"
     ]
    }
   ],
   "source": [
    "# Filtrar por sexo para mujeres (Sexo = 2)\n",
    "mujeres = personas[personas['CH04'] == 2]\n",
    "\n",
    "# Filtrar por sexo para hombres (Sexo = 1)\n",
    "hombres = personas[personas['CH04'] == 1]\n",
    "\n",
    "# Obtener el monto del ingreso por trabajo de menores de 10 años para mujeres y hombres\n",
    "monto_ingreso_trabajo_mujeres = mujeres['V19_AM']\n",
    "monto_ingreso_trabajo_hombres = hombres['V19_AM']\n",
    "\n",
    "# Mostrar el monto del ingreso por trabajo de menores de 10 años para mujeres\n",
    "print(\"Monto del ingreso por trabajo de menores de 10 años para mujeres:\")\n",
    "print(monto_ingreso_trabajo_mujeres)\n",
    "\n",
    "# Mostrar el monto del ingreso por trabajo de menores de 10 años para hombres\n",
    "print(\"Monto del ingreso por trabajo de menores de 10 años para hombres:\")\n",
    "print(monto_ingreso_trabajo_hombres)"
   ]
  },
  {
   "cell_type": "code",
   "execution_count": 74,
   "metadata": {},
   "outputs": [
    {
     "name": "stdout",
     "output_type": "stream",
     "text": [
      "Monto del ingreso total familiar:\n",
      "0             0\n",
      "1        350000\n",
      "2             0\n",
      "3             0\n",
      "4        287000\n",
      "          ...  \n",
      "26484     77000\n",
      "26485     87700\n",
      "26486     90000\n",
      "26487    125700\n",
      "26488     30000\n",
      "Name: ITF, Length: 26489, dtype: int64\n"
     ]
    }
   ],
   "source": [
    "# Cargar los datos desde los archivos TXT\n",
    "hogares = pd.read_csv(\"hogares_tot.urb_3T_2022.txt\", sep=';', encoding='latin1')\n",
    "\n",
    "# Obtener el monto del ingreso total familiar\n",
    "monto_ingreso_total_familiar = hogares['ITF']\n",
    "\n",
    "# Mostrar el monto del ingreso total familiar\n",
    "print(\"Monto del ingreso total familiar:\")\n",
    "print(monto_ingreso_total_familiar)"
   ]
  },
  {
   "cell_type": "markdown",
   "metadata": {},
   "source": [
    "Ponderador del ingreso total familiar y del ingreso per cápita familiar, para hogares (ver Anexo I)\n"
   ]
  },
  {
   "cell_type": "code",
   "execution_count": 75,
   "metadata": {},
   "outputs": [
    {
     "name": "stderr",
     "output_type": "stream",
     "text": [
      "C:\\Users\\Usuario\\AppData\\Local\\Temp\\ipykernel_8236\\1192559962.py:3: DtypeWarning: Columns (63,66) have mixed types. Specify dtype option on import or set low_memory=False.\n",
      "  personas = pd.read_csv(\"personas_tot.urb_3T_2022.txt\", sep=';', encoding='latin1')\n"
     ]
    }
   ],
   "source": [
    "# Cargar los datos desde los archivos TXT\n",
    "hogares = pd.read_csv(\"hogares_tot.urb_3T_2022.txt\", sep=';', encoding='latin1')\n",
    "personas = pd.read_csv(\"personas_tot.urb_3T_2022.txt\", sep=';', encoding='latin1')\n"
   ]
  },
  {
   "cell_type": "code",
   "execution_count": 77,
   "metadata": {},
   "outputs": [
    {
     "name": "stdout",
     "output_type": "stream",
     "text": [
      "Nombres de las columnas:\n",
      "Index(['CODUSU', 'TRIM', 'ANO4_x', 'AGLOMERADO_x', 'NRO_HOGAR_x',\n",
      "       'PROVINCIA_x', 'ITF_x', 'IPCF_x', 'REALIZADA', 'PONDIH_x',\n",
      "       ...\n",
      "       'V18_M', 'V19_AM', 'ITF_y', 'IPCF_y', 'T_VI', 'TOT_P12', 'P47T', 'P21',\n",
      "       'INTENSI', 'PONDERA_y'],\n",
      "      dtype='object', length=226)\n"
     ]
    }
   ],
   "source": [
    "# Fusionar datos de hogares y personas para obtener el género de cada persona en el hogar\n",
    "datos_completos = pd.merge(hogares, personas, on='CODUSU')\n",
    "\n",
    "# Mostrar los nombres de todas las columnas\n",
    "print(\"Nombres de las columnas:\")\n",
    "print(datos_completos.columns)"
   ]
  },
  {
   "cell_type": "code",
   "execution_count": 78,
   "metadata": {},
   "outputs": [
    {
     "name": "stdout",
     "output_type": "stream",
     "text": [
      "Ingreso total familiar ponderado para mujeres: 3435716578492\n",
      "Ingreso total familiar ponderado para hombres: 3401824791184\n"
     ]
    }
   ],
   "source": [
    "# Separar los datos entre mujeres y hombres\n",
    "datos_mujeres = datos_completos[datos_completos['CH04'] == 2]  # CH04 = 2 corresponde a mujeres\n",
    "datos_hombres = datos_completos[datos_completos['CH04'] == 1]  # CH04 = 1 corresponde a hombres\n",
    "\n",
    "# Calcular el ingreso total familiar ponderado para mujeres y hombres\n",
    "ingreso_total_mujeres = (datos_mujeres['ITF_x'] * datos_mujeres['PONDIH_x']).sum()\n",
    "ingreso_total_hombres = (datos_hombres['ITF_x'] * datos_hombres['PONDIH_x']).sum()\n",
    "\n",
    "print(\"Ingreso total familiar ponderado para mujeres:\", ingreso_total_mujeres)\n",
    "print(\"Ingreso total familiar ponderado para hombres:\", ingreso_total_hombres)\n"
   ]
  },
  {
   "cell_type": "markdown",
   "metadata": {},
   "source": [
    "Los resultados muestran que el ingreso total familiar ponderado para mujeres es ligeramente mayor que el de los hombres. Aquí hay algunas observaciones y posibles conclusiones que podríamos hacer a partir de estos datos:\n",
    "\n",
    "Equilibrio de género en los ingresos: Aunque los ingresos totales familiares ponderados para mujeres son ligeramente más altos que los de los hombres, la diferencia no parece ser significativa. Esto sugiere que en esta muestra, en promedio, no hay una disparidad significativa en los ingresos familiares entre mujeres y hombres.\n",
    "Contexto socioeconómico: Podríamos examinar más a fondo las características socioeconómicas de las mujeres y los hombres en la muestra para comprender mejor este patrón. Por ejemplo, podríamos analizar la distribución de ingresos dentro de cada grupo para ver si hay diferencias significativas en la distribución.\n",
    "Factores adicionales: Sería útil considerar otros factores que podrían influir en los ingresos familiares, como la educación, la ocupación, la ubicación geográfica, entre otros. Un análisis más detallado que tenga en cuenta estos factores podría proporcionar una comprensión más completa de las diferencias en los ingresos entre mujeres y hombres en la muestra."
   ]
  }
 ],
 "metadata": {
  "kernelspec": {
   "display_name": "Python 3",
   "language": "python",
   "name": "python3"
  },
  "language_info": {
   "codemirror_mode": {
    "name": "ipython",
    "version": 3
   },
   "file_extension": ".py",
   "mimetype": "text/x-python",
   "name": "python",
   "nbconvert_exporter": "python",
   "pygments_lexer": "ipython3",
   "version": "3.10.11"
  }
 },
 "nbformat": 4,
 "nbformat_minor": 2
}
